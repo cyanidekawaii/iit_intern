{
  "nbformat": 4,
  "nbformat_minor": 0,
  "metadata": {
    "colab": {
      "provenance": [],
      "authorship_tag": "ABX9TyOPmM+aI0jGgoNxZ9Uyl/jR",
      "include_colab_link": true
    },
    "kernelspec": {
      "name": "python3",
      "display_name": "Python 3"
    },
    "language_info": {
      "name": "python"
    }
  },
  "cells": [
    {
      "cell_type": "markdown",
      "metadata": {
        "id": "view-in-github",
        "colab_type": "text"
      },
      "source": [
        "<a href=\"https://colab.research.google.com/github/namans-git/iit_intern/blob/main/kruskal_wallis.ipynb\" target=\"_parent\"><img src=\"https://colab.research.google.com/assets/colab-badge.svg\" alt=\"Open In Colab\"/></a>"
      ]
    },
    {
      "cell_type": "markdown",
      "source": [
        "What is the Kruskal Wallis Test?\n",
        "\n",
        "The Kruskal Wallis test is the **non-parametric**  **version of ANOVA**. The test is used to determine whether or not there is a statistically significant difference between the **medians** of three or more independent groups **OR** whether more than two independent samples have a different distribution."
      ],
      "metadata": {
        "id": "xhUB6gBaSrgV"
      }
    },
    {
      "cell_type": "markdown",
      "source": [
        "Kruskal Wallis test Hypotheses\n",
        "\n",
        "The research hypotheses for the kruskal-wallis nonparametric test are stated as follows:\n",
        "\n",
        "* $H_0$:  all data samples were drawn from the **same distribution** or that the **population medians of all groups are equal**.\n",
        "* $H_1$: one or more samples **dominate another sample** or the median is not equal for all the data groups."
      ],
      "metadata": {
        "id": "eGAl7oLYU_JA"
      }
    },
    {
      "cell_type": "markdown",
      "source": [
        "NOTE: \" When the Kruskal-Wallis H-test leads to **significant results**, then at least one of the samples is different from the other samples. However, ***the test does not identify where the difference(s) occur***. Moreover, it does not identify how many differences occur.\"\n",
        "\n",
        "— Page 100, Nonparametric Statistics for Non-Statisticians: A Step-by-Step Approach, 2009."
      ],
      "metadata": {
        "id": "uLdvQSBXVkiE"
      }
    },
    {
      "cell_type": "markdown",
      "source": [
        "Assumptions:\n",
        "\n",
        "The assumptions of the Kruskal-Wallis test are similar to those for the Wilcoxon-Mann-Whitney test.\n",
        "\n",
        "1. Samples are **random samples**, or allocation to treatment group is random.\n",
        "2. The two samples are **mutually independent**.\n",
        "3. The measurement scale is at least ordinal, and the variable is **continuous**."
      ],
      "metadata": {
        "id": "l0yVl_GoWNEN"
      }
    },
    {
      "cell_type": "markdown",
      "source": [
        "##### Generating Data ~"
      ],
      "metadata": {
        "id": "qL0M6ZPNWxvF"
      }
    },
    {
      "cell_type": "code",
      "execution_count": null,
      "metadata": {
        "id": "3tyt-xI6zga8"
      },
      "outputs": [],
      "source": [
        "#generating three independent samples\n",
        "from numpy.random import randn\n",
        "data1 = 8 * randn(100) + 60\n",
        "data2 = 8 * randn(100) + 60\n",
        "data3 = 8 * randn(100) + 63"
      ]
    },
    {
      "cell_type": "markdown",
      "source": [
        "we've taken three samples, **two of which have the same sample mean**. Since we know that one sample differs, we expect the test to find the difference and reject the null hypothesis i.e. **the median of all groups are equal**."
      ],
      "metadata": {
        "id": "afyuFIuRXHYj"
      }
    },
    {
      "cell_type": "code",
      "source": [
        "#importing kruskal function from scipy library\n",
        "from scipy.stats import kruskal\n",
        "#comparing samples\n",
        "stat, p = kruskal(data1, data2, data3)\n",
        "print('statistics=%.3f, p=%.3f' % (stat, p))\n",
        "\n",
        "## Interpretation\n",
        "\n",
        "#defining our alpha value\n",
        "alpha = 0.05\n",
        "if p>alpha:\n",
        "  print('the distributions are same, failed to reject the null hypothesis')\n",
        "else:\n",
        "  print('the distributions are different, we reject the null hypothesis')"
      ],
      "metadata": {
        "colab": {
          "base_uri": "https://localhost:8080/"
        },
        "id": "00g5j8TdXG-B",
        "outputId": "cc117a7d-b163-4902-bdba-4ba792dee885"
      },
      "execution_count": null,
      "outputs": [
        {
          "output_type": "stream",
          "name": "stdout",
          "text": [
            "statistics=10.119, p=0.006\n",
            "the distributions are different, we reject the null hypothesis\n"
          ]
        }
      ]
    }
  ]
}