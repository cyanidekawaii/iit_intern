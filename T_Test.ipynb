{
  "nbformat": 4,
  "nbformat_minor": 0,
  "metadata": {
    "colab": {
      "provenance": [],
      "authorship_tag": "ABX9TyPDb+VkDPwPvVcDmHu1n7hA",
      "include_colab_link": true
    },
    "kernelspec": {
      "name": "python3",
      "display_name": "Python 3"
    },
    "language_info": {
      "name": "python"
    }
  },
  "cells": [
    {
      "cell_type": "markdown",
      "metadata": {
        "id": "view-in-github",
        "colab_type": "text"
      },
      "source": [
        "<a href=\"https://colab.research.google.com/github/namans-git/iit_intern/blob/main/T_Test.ipynb\" target=\"_parent\"><img src=\"https://colab.research.google.com/assets/colab-badge.svg\" alt=\"Open In Colab\"/></a>"
      ]
    },
    {
      "cell_type": "markdown",
      "source": [
        "#### Hypothesis Testing\n",
        "\n",
        "Hypothesis testing is the other domain of statistical inference (besides parameter estimation) wherein we use data from samples to draw conclusions about a population parameter or a probability distribution.\n",
        "\n",
        "A tentative assumption is made about the parameter or the distribution. This assumption is called the **Null Hypothesis** and is denoted by $H_0$. An **Alternative Hypothesis** (denoted $H_a$), which is the opposite of what is stated in the null hypothesis, is then defined.\n",
        "\n",
        "The hypothesis-testing procedure involves using sample data to determine whether or not $H_0$ can be rejected. If $H_0$ is rejected, the statistical conclusion is that the alternative hypothesis $H_a$ is true.\n",
        "\n",
        "A concept known as the **P-value** provides a convenient basis for drawing conclusions in hypothesis-testing applications. The p-value is a measure of how likely the sample results are, assuming the null hypothesis is true; the smaller the p-value, the less likely the sample results.\n",
        "\n",
        "If the p-value is less than $\\alpha$ the null hypothesis can be rejected; otherwise, the null hypothesis cannot be rejected. The p-value is often called the observed level of significance for the test [20].\n",
        "\n",
        "---\n"
      ],
      "metadata": {
        "id": "uN74VVLwbUjw"
      }
    },
    {
      "cell_type": "markdown",
      "source": [
        "**What are T tests?**\n",
        "\n",
        "A t-test tells us how significantly different the means of two (or more) groups are.\n",
        "It is often used in **hypothesis testing** to determine whether a process or treatment actually has an effect on the population of interest, or whether two groups are different from one another.\n",
        "\n",
        "---\n",
        "---\n",
        "\n",
        "\n",
        "There are three types of t-tests:\n",
        "\n",
        "1. ***Independent Samples T-test***: This test is used to compare the averages or means for two groups.\n",
        "\n",
        "2. ***Paired Sample T-test***: This test is used to compare means from the same group at different times (For example, one year apart).\n",
        "\n",
        "3. ***One Sample T-test***: This test is used to test the mean of a single group against an acknowledged mean."
      ],
      "metadata": {
        "id": "lDrLobyJzUTk"
      }
    },
    {
      "cell_type": "markdown",
      "source": [
        "##### Part 1: Data Exploration"
      ],
      "metadata": {
        "id": "yMcZRB6AzdTo"
      }
    },
    {
      "cell_type": "code",
      "source": [
        "#pip install researchpy"
      ],
      "metadata": {
        "id": "rO7nqZQG_x2U"
      },
      "execution_count": null,
      "outputs": []
    },
    {
      "cell_type": "code",
      "execution_count": null,
      "metadata": {
        "id": "1MVOElRvy-tr"
      },
      "outputs": [],
      "source": [
        "#importing libraries\n",
        "import pandas as pd\n",
        "import researchpy as rp\n",
        "import scipy.stats as stats\n",
        "import matplotlib.pyplot as plt"
      ]
    },
    {
      "cell_type": "code",
      "source": [
        "#importing data\n",
        "# dataset [21]\n",
        "df = pd.read_csv(\"https://raw.githubusercontent.com/researchpy/Data-sets/master/blood_pressure.csv\")\n",
        "df.info()"
      ],
      "metadata": {
        "colab": {
          "base_uri": "https://localhost:8080/"
        },
        "id": "n6XIycEF_oqy",
        "outputId": "3ab838fc-bab3-4036-9d75-041e8a63a0f9"
      },
      "execution_count": null,
      "outputs": [
        {
          "output_type": "stream",
          "name": "stdout",
          "text": [
            "<class 'pandas.core.frame.DataFrame'>\n",
            "RangeIndex: 120 entries, 0 to 119\n",
            "Data columns (total 5 columns):\n",
            " #   Column     Non-Null Count  Dtype \n",
            "---  ------     --------------  ----- \n",
            " 0   patient    120 non-null    int64 \n",
            " 1   sex        120 non-null    object\n",
            " 2   agegrp     120 non-null    object\n",
            " 3   bp_before  120 non-null    int64 \n",
            " 4   bp_after   120 non-null    int64 \n",
            "dtypes: int64(3), object(2)\n",
            "memory usage: 4.8+ KB\n"
          ]
        }
      ]
    },
    {
      "cell_type": "code",
      "source": [
        "df.head()"
      ],
      "metadata": {
        "colab": {
          "base_uri": "https://localhost:8080/",
          "height": 206
        },
        "id": "1GHV8Aju_p0p",
        "outputId": "a2b38e62-8516-496d-80f8-e4b3bbcacb54"
      },
      "execution_count": null,
      "outputs": [
        {
          "output_type": "execute_result",
          "data": {
            "text/plain": [
              "   patient   sex agegrp  bp_before  bp_after\n",
              "0        1  Male  30-45        143       153\n",
              "1        2  Male  30-45        163       170\n",
              "2        3  Male  30-45        153       168\n",
              "3        4  Male  30-45        153       142\n",
              "4        5  Male  30-45        146       141"
            ],
            "text/html": [
              "\n",
              "  <div id=\"df-ed4d6eb3-5171-426a-aacb-066fc244265f\">\n",
              "    <div class=\"colab-df-container\">\n",
              "      <div>\n",
              "<style scoped>\n",
              "    .dataframe tbody tr th:only-of-type {\n",
              "        vertical-align: middle;\n",
              "    }\n",
              "\n",
              "    .dataframe tbody tr th {\n",
              "        vertical-align: top;\n",
              "    }\n",
              "\n",
              "    .dataframe thead th {\n",
              "        text-align: right;\n",
              "    }\n",
              "</style>\n",
              "<table border=\"1\" class=\"dataframe\">\n",
              "  <thead>\n",
              "    <tr style=\"text-align: right;\">\n",
              "      <th></th>\n",
              "      <th>patient</th>\n",
              "      <th>sex</th>\n",
              "      <th>agegrp</th>\n",
              "      <th>bp_before</th>\n",
              "      <th>bp_after</th>\n",
              "    </tr>\n",
              "  </thead>\n",
              "  <tbody>\n",
              "    <tr>\n",
              "      <th>0</th>\n",
              "      <td>1</td>\n",
              "      <td>Male</td>\n",
              "      <td>30-45</td>\n",
              "      <td>143</td>\n",
              "      <td>153</td>\n",
              "    </tr>\n",
              "    <tr>\n",
              "      <th>1</th>\n",
              "      <td>2</td>\n",
              "      <td>Male</td>\n",
              "      <td>30-45</td>\n",
              "      <td>163</td>\n",
              "      <td>170</td>\n",
              "    </tr>\n",
              "    <tr>\n",
              "      <th>2</th>\n",
              "      <td>3</td>\n",
              "      <td>Male</td>\n",
              "      <td>30-45</td>\n",
              "      <td>153</td>\n",
              "      <td>168</td>\n",
              "    </tr>\n",
              "    <tr>\n",
              "      <th>3</th>\n",
              "      <td>4</td>\n",
              "      <td>Male</td>\n",
              "      <td>30-45</td>\n",
              "      <td>153</td>\n",
              "      <td>142</td>\n",
              "    </tr>\n",
              "    <tr>\n",
              "      <th>4</th>\n",
              "      <td>5</td>\n",
              "      <td>Male</td>\n",
              "      <td>30-45</td>\n",
              "      <td>146</td>\n",
              "      <td>141</td>\n",
              "    </tr>\n",
              "  </tbody>\n",
              "</table>\n",
              "</div>\n",
              "      <button class=\"colab-df-convert\" onclick=\"convertToInteractive('df-ed4d6eb3-5171-426a-aacb-066fc244265f')\"\n",
              "              title=\"Convert this dataframe to an interactive table.\"\n",
              "              style=\"display:none;\">\n",
              "        \n",
              "  <svg xmlns=\"http://www.w3.org/2000/svg\" height=\"24px\"viewBox=\"0 0 24 24\"\n",
              "       width=\"24px\">\n",
              "    <path d=\"M0 0h24v24H0V0z\" fill=\"none\"/>\n",
              "    <path d=\"M18.56 5.44l.94 2.06.94-2.06 2.06-.94-2.06-.94-.94-2.06-.94 2.06-2.06.94zm-11 1L8.5 8.5l.94-2.06 2.06-.94-2.06-.94L8.5 2.5l-.94 2.06-2.06.94zm10 10l.94 2.06.94-2.06 2.06-.94-2.06-.94-.94-2.06-.94 2.06-2.06.94z\"/><path d=\"M17.41 7.96l-1.37-1.37c-.4-.4-.92-.59-1.43-.59-.52 0-1.04.2-1.43.59L10.3 9.45l-7.72 7.72c-.78.78-.78 2.05 0 2.83L4 21.41c.39.39.9.59 1.41.59.51 0 1.02-.2 1.41-.59l7.78-7.78 2.81-2.81c.8-.78.8-2.07 0-2.86zM5.41 20L4 18.59l7.72-7.72 1.47 1.35L5.41 20z\"/>\n",
              "  </svg>\n",
              "      </button>\n",
              "      \n",
              "  <style>\n",
              "    .colab-df-container {\n",
              "      display:flex;\n",
              "      flex-wrap:wrap;\n",
              "      gap: 12px;\n",
              "    }\n",
              "\n",
              "    .colab-df-convert {\n",
              "      background-color: #E8F0FE;\n",
              "      border: none;\n",
              "      border-radius: 50%;\n",
              "      cursor: pointer;\n",
              "      display: none;\n",
              "      fill: #1967D2;\n",
              "      height: 32px;\n",
              "      padding: 0 0 0 0;\n",
              "      width: 32px;\n",
              "    }\n",
              "\n",
              "    .colab-df-convert:hover {\n",
              "      background-color: #E2EBFA;\n",
              "      box-shadow: 0px 1px 2px rgba(60, 64, 67, 0.3), 0px 1px 3px 1px rgba(60, 64, 67, 0.15);\n",
              "      fill: #174EA6;\n",
              "    }\n",
              "\n",
              "    [theme=dark] .colab-df-convert {\n",
              "      background-color: #3B4455;\n",
              "      fill: #D2E3FC;\n",
              "    }\n",
              "\n",
              "    [theme=dark] .colab-df-convert:hover {\n",
              "      background-color: #434B5C;\n",
              "      box-shadow: 0px 1px 3px 1px rgba(0, 0, 0, 0.15);\n",
              "      filter: drop-shadow(0px 1px 2px rgba(0, 0, 0, 0.3));\n",
              "      fill: #FFFFFF;\n",
              "    }\n",
              "  </style>\n",
              "\n",
              "      <script>\n",
              "        const buttonEl =\n",
              "          document.querySelector('#df-ed4d6eb3-5171-426a-aacb-066fc244265f button.colab-df-convert');\n",
              "        buttonEl.style.display =\n",
              "          google.colab.kernel.accessAllowed ? 'block' : 'none';\n",
              "\n",
              "        async function convertToInteractive(key) {\n",
              "          const element = document.querySelector('#df-ed4d6eb3-5171-426a-aacb-066fc244265f');\n",
              "          const dataTable =\n",
              "            await google.colab.kernel.invokeFunction('convertToInteractive',\n",
              "                                                     [key], {});\n",
              "          if (!dataTable) return;\n",
              "\n",
              "          const docLinkHtml = 'Like what you see? Visit the ' +\n",
              "            '<a target=\"_blank\" href=https://colab.research.google.com/notebooks/data_table.ipynb>data table notebook</a>'\n",
              "            + ' to learn more about interactive tables.';\n",
              "          element.innerHTML = '';\n",
              "          dataTable['output_type'] = 'display_data';\n",
              "          await google.colab.output.renderOutput(dataTable, element);\n",
              "          const docLink = document.createElement('div');\n",
              "          docLink.innerHTML = docLinkHtml;\n",
              "          element.appendChild(docLink);\n",
              "        }\n",
              "      </script>\n",
              "    </div>\n",
              "  </div>\n",
              "  "
            ]
          },
          "metadata": {},
          "execution_count": 4
        }
      ]
    },
    {
      "cell_type": "code",
      "source": [
        "#the two groups that we will be testing\n",
        "\n",
        "#group1 = the blood pressure of males before treatment\n",
        "df.loc[df['sex']=='Male']['bp_before'].hist(bins=12, alpha=0.5)"
      ],
      "metadata": {
        "colab": {
          "base_uri": "https://localhost:8080/",
          "height": 283
        },
        "id": "yX3pjHhA1cam",
        "outputId": "6c08d9cd-ce23-4c74-8e36-eea56a7aba1a"
      },
      "execution_count": null,
      "outputs": [
        {
          "output_type": "execute_result",
          "data": {
            "text/plain": [
              "<matplotlib.axes._subplots.AxesSubplot at 0x7f7b0928a590>"
            ]
          },
          "metadata": {},
          "execution_count": 8
        },
        {
          "output_type": "display_data",
          "data": {
            "text/plain": [
              "<Figure size 432x288 with 1 Axes>"
            ],
            "image/png": "[encoded data removed]"
          },
          "metadata": {
            "needs_background": "light"
          }
        }
      ]
    },
    {
      "cell_type": "code",
      "source": [
        "#group2 = the blood pressure of females before treament\n",
        "df.loc[df['sex']=='Female']['bp_before'].hist(bins=12, alpha=0.5)"
      ],
      "metadata": {
        "colab": {
          "base_uri": "https://localhost:8080/",
          "height": 283
        },
        "id": "JXecDoDu2b0c",
        "outputId": "865ea505-01da-4c6c-b61c-7f82c701f3aa"
      },
      "execution_count": null,
      "outputs": [
        {
          "output_type": "execute_result",
          "data": {
            "text/plain": [
              "<matplotlib.axes._subplots.AxesSubplot at 0x7f7b08d42e10>"
            ]
          },
          "metadata": {},
          "execution_count": 10
        },
        {
          "output_type": "display_data",
          "data": {
            "text/plain": [
              "<Figure size 432x288 with 1 Axes>"
            ],
            "image/png": "[encoded data removed]"
          },
          "metadata": {
            "needs_background": "light"
          }
        }
      ]
    },
    {
      "cell_type": "code",
      "source": [
        "#####"
      ],
      "metadata": {
        "id": "fdpPgcLfDkJm"
      },
      "execution_count": null,
      "outputs": []
    },
    {
      "cell_type": "markdown",
      "source": [
        "***Assumption Check:***\n",
        "\n",
        "There are parametric assumptions that need to met in order for the test to be considered valid.\n",
        "\n",
        "\n",
        "\n",
        "\n",
        "---\n",
        "\n",
        "\n",
        "\n",
        "Assumption 1:\n",
        "\n",
        "***THE TWO SAMPLES ARE INDEPENDENT***:\n",
        "\n",
        "\n",
        "This assumption is tested when the study is designed. What this means is that no individual has data in group A and B. Since our groups are divided by gender, we've already cleared this assumption.\n",
        "\n",
        "\n",
        "\n",
        "Assumption 2:\n",
        "\n",
        "***POPULATION DISTRIBUTIONS ARE NORMAL***\n",
        "\n",
        "\n",
        "When the sample isn't very large we can use the **shapiro-wilk** test to test the normality of the samples."
      ],
      "metadata": {
        "id": "-Daz8O_FA2cm"
      }
    },
    {
      "cell_type": "code",
      "source": [
        "sampling_difference = df['bp_after'][df['sex'] == 'Male'].values - \\\n",
        "                      df['bp_after'][df['sex'] == 'Female'].values\n",
        "\n",
        "stats.shapiro(sampling_difference)#gives us (W test statistic, p-value)"
      ],
      "metadata": {
        "colab": {
          "base_uri": "https://localhost:8080/"
        },
        "id": "6vt1bAjQDlvW",
        "outputId": "54d7c209-7c36-470f-d77c-da700c246875"
      },
      "execution_count": null,
      "outputs": [
        {
          "output_type": "execute_result",
          "data": {
            "text/plain": [
              "ShapiroResult(statistic=0.98586106300354, pvalue=0.7147841453552246)"
            ]
          },
          "metadata": {},
          "execution_count": 22
        }
      ]
    },
    {
      "cell_type": "markdown",
      "source": [
        "Since the test is **not significant** it indicates the sampling distribution is **normally distributed**."
      ],
      "metadata": {
        "id": "lad-Tz53Dz8N"
      }
    },
    {
      "cell_type": "markdown",
      "source": [
        "For larger samples, we should check the normality visually. It is so because as the sample size increases the test's ability to reject the null hypothesis decreases i.e. it gains the power to detect smaller differences as the sample size 𝑛 increases."
      ],
      "metadata": {
        "id": "Y9Kj8stuEA8K"
      }
    },
    {
      "cell_type": "markdown",
      "source": [
        "--"
      ],
      "metadata": {
        "id": "w7fuMLmtE9Kl"
      }
    },
    {
      "cell_type": "markdown",
      "source": [
        "one method of visually checking the distribution is to use the **probability plot** with or without the correlation value,**R-SQ**, to assess the observed values correlation with the theoretical distribution in question - in the current case it would be the **Gaussian** (a.k.a the normal) distribution."
      ],
      "metadata": {
        "id": "A-yYJQnqE-oq"
      }
    },
    {
      "cell_type": "code",
      "source": [
        "fig = plt.figure(figsize= (20, 10))\n",
        "ax = fig.add_subplot(111)\n",
        "\n",
        "normality_plot, stat = stats.probplot(sampling_difference, plot= plt, rvalue= True)\n",
        "ax.set_title(\"Probability plot of sampling difference\", fontsize= 20)\n",
        "ax.set\n",
        "\n",
        "plt.show()"
      ],
      "metadata": {
        "colab": {
          "base_uri": "https://localhost:8080/",
          "height": 627
        },
        "id": "4yTTDs2TEr39",
        "outputId": "2d7fa911-5ff3-497c-b537-71dbd2a04b2e"
      },
      "execution_count": null,
      "outputs": [
        {
          "output_type": "display_data",
          "data": {
            "text/plain": [
              "<Figure size 1440x720 with 1 Axes>"
            ],
            "image/png": "[encoded data removed]"
          },
          "metadata": {
            "needs_background": "light"
          }
        }
      ]
    },
    {
      "cell_type": "markdown",
      "source": [
        "Both methods support the same finding which is that the sampling distribution is normally distributed."
      ],
      "metadata": {
        "id": "ZucPrRO0FZx7"
      }
    },
    {
      "cell_type": "markdown",
      "source": [
        "--"
      ],
      "metadata": {
        "id": "Wx3M7S7UF3Qz"
      }
    },
    {
      "cell_type": "markdown",
      "source": [
        "Assumption 3:\n",
        "\n",
        "***HOMOGENEITY OF VARIANCE***\n",
        "\n",
        "One of the assumptions is that both groups have equal variances. We can use the **Levene's test** of homogeneity of variances."
      ],
      "metadata": {
        "id": "vjHVzd5rFlnC"
      }
    },
    {
      "cell_type": "code",
      "source": [
        "stats.levene(df['bp_after'][df['sex'] == 'Male'],\n",
        "             df['bp_after'][df['sex'] == 'Female'],\n",
        "             center= 'mean')"
      ],
      "metadata": {
        "colab": {
          "base_uri": "https://localhost:8080/"
        },
        "id": "DRNGi5TWDls2",
        "outputId": "a014fbab-e7d9-41b4-cf5f-0ccf662d8c8f"
      },
      "execution_count": null,
      "outputs": [
        {
          "output_type": "execute_result",
          "data": {
            "text/plain": [
              "LeveneResult(statistic=5.865854141268659, pvalue=0.01695904277978066)"
            ]
          },
          "metadata": {},
          "execution_count": 29
        }
      ]
    },
    {
      "cell_type": "markdown",
      "source": [
        "This test is significant which indicates that the groups have different variances and that the t test may not be the best method to use. We can check again visually."
      ],
      "metadata": {
        "id": "hiF8KWKoGCWC"
      }
    },
    {
      "cell_type": "code",
      "source": [
        "fig = plt.figure(figsize= (20, 10))\n",
        "ax = fig.add_subplot(111)\n",
        "\n",
        "\n",
        "p_bp_male = plt.hist(df['bp_after'][df['sex'] == 'Male'], label= \"Male\",\n",
        "                     density= True,\n",
        "                     alpha=0.75)\n",
        "p_bp_female = plt.hist(df['bp_after'][df['sex'] == 'Female'], label= \"Female\",\n",
        "                       density= True,\n",
        "                       alpha=0.75)\n",
        "\n",
        "\n",
        "plt.suptitle(\"Distribution of Post-Blood Pressure \\n between Males and Females\", fontsize= 20)\n",
        "plt.xlabel(\"Blood Pressure\", fontsize= 16)\n",
        "plt.ylabel(\"Probability density\", fontsize= 16)\n",
        "\n",
        "plt.text(133, .025,\n",
        "         f\"$\\mu= {df['bp_after'][df['sex'] == 'Female'].mean(): .1f}, \\ \\sigma= {df['bp_after'][df['sex'] == 'Female'].std(): .1f}$\")\n",
        "plt.text(160, .025,\n",
        "         f\"$\\mu= {df['bp_after'][df['sex'] == 'Male'].mean(): .1f}, \\ \\sigma= {df['bp_after'][df['sex'] == 'Male'].std(): .1f}$\")\n",
        "\n",
        "\n",
        "plt.show()"
      ],
      "metadata": {
        "colab": {
          "base_uri": "https://localhost:8080/",
          "height": 682
        },
        "id": "goHnmsYDGCH6",
        "outputId": "218ed575-788b-49f9-fb23-635e64e09994"
      },
      "execution_count": null,
      "outputs": [
        {
          "output_type": "display_data",
          "data": {
            "text/plain": [
              "<Figure size 1440x720 with 1 Axes>"
            ],
            "image/png": "[encoded data removed]"
          },
          "metadata": {
            "needs_background": "light"
          }
        }
      ]
    },
    {
      "cell_type": "markdown",
      "source": [
        "There are different ways to handle **heteroskedasticity** (unequal variance). Some options include, but is not limited to, transforming the dependent variable (outcome), using trimmed means, robust standard errors, or a parametric test suchs as the Welch's t-test."
      ],
      "metadata": {
        "id": "Jc4TOrKxGddj"
      }
    },
    {
      "cell_type": "markdown",
      "source": [
        "We'll run a normal t test nonetheless."
      ],
      "metadata": {
        "id": "HqnkfuM-Gljh"
      }
    },
    {
      "cell_type": "code",
      "source": [
        "rp.ttest(group1= df['bp_after'][df['sex'] == 'Male'], group1_name= \"Male\",\n",
        "         group2= df['bp_after'][df['sex'] == 'Female'], group2_name= \"Female\")"
      ],
      "metadata": {
        "colab": {
          "base_uri": "https://localhost:8080/"
        },
        "id": "toSM01bz_66Y",
        "outputId": "d6ff3b8a-634b-475c-a1cb-0b713f9b69cc"
      },
      "execution_count": null,
      "outputs": [
        {
          "output_type": "execute_result",
          "data": {
            "text/plain": [
              "(   Variable      N        Mean         SD        SE   95% Conf.    Interval\n",
              " 0      Male   60.0  155.516667  15.243217  1.967891  151.578926  159.454407\n",
              " 1    Female   60.0  147.200000  11.742722  1.515979  144.166533  150.233467\n",
              " 2  combined  120.0  151.358333  14.177622  1.294234  148.795621  153.921046,\n",
              "               Independent t-test   results\n",
              " 0  Difference (Male - Female) =     8.3167\n",
              " 1          Degrees of freedom =   118.0000\n",
              " 2                           t =     3.3480\n",
              " 3       Two side test p value =     0.0011\n",
              " 4      Difference < 0 p value =     0.9995\n",
              " 5      Difference > 0 p value =     0.0005\n",
              " 6                   Cohen's d =     0.6112\n",
              " 7                   Hedge's g =     0.6074\n",
              " 8              Glass's delta1 =     0.5456\n",
              " 9            Point-Biserial r =     0.2945)"
            ]
          },
          "metadata": {},
          "execution_count": 19
        }
      ]
    },
    {
      "cell_type": "code",
      "source": [
        "summary, results = rp.ttest(group1= df['bp_after'][df['sex'] == 'Male'], group1_name= \"Male\",\n",
        "                            group2= df['bp_after'][df['sex'] == 'Female'], group2_name= \"Female\")"
      ],
      "metadata": {
        "id": "PCmKF5G9AIX2"
      },
      "execution_count": null,
      "outputs": []
    },
    {
      "cell_type": "markdown",
      "source": [
        "**Interpretation**:\n",
        "\n",
        "The average blood pressure after the treatment for males, M= 155.5 (151.6, 159.5), was statistically signigicantly higher than females, M= 147.2 (144.2, 150.2); t(118)= 3.3480, p= 0.001."
      ],
      "metadata": {
        "id": "P-OPktFnBalM"
      }
    }
  ]
}