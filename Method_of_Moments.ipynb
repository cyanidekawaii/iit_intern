{
  "cells": [
    {
      "cell_type": "markdown",
      "metadata": {
        "id": "view-in-github",
        "colab_type": "text"
      },
      "source": [
        "<a href=\"https://colab.research.google.com/github/namans-git/iit_intern/blob/main/Method_of_Moments.ipynb\" target=\"_parent\"><img src=\"https://colab.research.google.com/assets/colab-badge.svg\" alt=\"Open In Colab\"/></a>"
      ]
    },
    {
      "cell_type": "markdown",
      "source": [
        "Method of Moments\n",
        "\n",
        "---\n",
        "\n",
        "It is a **method of estimation of population parameters**. Using the same principle we derive higher moments like **skewness** and **kurtosis** [18].\n",
        "\n",
        "It starts by expressing the population moments (i.e., the expected values of powers of the random variable under consideration) as functions of the parameters of interest. Those expressions are then set equal to the sample moments.\n",
        "\n",
        "The number of such equations is the same as the number of parameters to be estimated. Those equations are then solved for the parameters of interest. The solutions are estimates of those parameters."
      ],
      "metadata": {
        "id": "K6rQQyKRTLQG"
      }
    },
    {
      "cell_type": "markdown",
      "source": [
        "Definitions ~\n",
        "\n",
        "1. $E(X^{K})$ is the $K^{th}$ (theoretical) moment of the distribution (about the origin), for $K = 1,2..$\n",
        "\n",
        "2. $E[(X-\\mu)^{K}]$ is the $K^{th}$ (theoretical) moment of the distribution (about the mean), for $K = 1,2..$\n",
        "\n",
        "3. $M_k$ = $\\sum_{i=1}^{n} X_{i}^{K}$ is the $K^{th}$ sample moment, for $K = 1,2..$"
      ],
      "metadata": {
        "id": "8ikbZcUrWI9r"
      }
    },
    {
      "cell_type": "markdown",
      "source": [
        "The basic idea behind this form of the method is to:\n",
        "\n",
        "1. Equate the first sample moment $M_1$ = $\\frac{1}{n}$ $\\sum_{i=1}^{n} X_{i}$ = $\\overline{X}$ about the origin  to the first theoretical moment $E(X)$.\n",
        "\n",
        "2. Equate the second sample moment $M_2$ = $\\frac{1}{n}$ $\\sum_{i=1}^{n} X_{i}^{2}$ about the origin to the second theoretical moment $E(X^{2}$).\n",
        "\n",
        "3. Continue equating sample moments about the origin, $M_K$ , with the corresponding theoretical moments $E(X^{K}$), $K = 3,4..$ until we have as many equations as we have parameters.\n",
        "\n",
        "4. Solve for the parameters.\n",
        "\n",
        "The resulting values are called **method of moments** estimators [19]."
      ],
      "metadata": {
        "id": "iC6XIUGMbg3z"
      }
    },
    {
      "cell_type": "markdown",
      "source": [
        "let's work this out using some artificially generated data ~"
      ],
      "metadata": {
        "id": "ni8t339qex0N"
      }
    },
    {
      "cell_type": "code",
      "source": [
        "#import libraries\n",
        "import numpy as np\n",
        "import scipy.stats as st\n",
        "import matplotlib.pyplot as plt"
      ],
      "metadata": {
        "id": "xBM966sRjdlh"
      },
      "execution_count": null,
      "outputs": []
    },
    {
      "cell_type": "code",
      "source": [
        "#general formula for the nth sample moment\n",
        "def sample_moment(sample, n):\n",
        "  summed = np.sum([el**n for el in sample])\n",
        "  length = len(sample)\n",
        "  return 1/length * summed"
      ],
      "metadata": {
        "id": "mG0gvhGxlOVJ"
      },
      "execution_count": null,
      "outputs": []
    },
    {
      "cell_type": "code",
      "source": [
        "#function to estimate parameters k and theta\n",
        "def estimate_pars(sample):\n",
        "  m1 = sample_moment(sample, 1)\n",
        "  m2 = sample_moment(sample, 2)\n",
        "  k = m1**2/(m2 - m1**2)\n",
        "  theta = m2/m1 - m1\n",
        "  return k, theta"
      ],
      "metadata": {
        "id": "beyfOqdnlQWw"
      },
      "execution_count": null,
      "outputs": []
    },
    {
      "cell_type": "code",
      "source": [
        "np.random.seed(100)\n",
        "k, theta = 3, 0.2\n",
        "sample = st.gamma.rvs(a=k, scale=theta, size=10000)"
      ],
      "metadata": {
        "id": "_JGyLDUJlR1B"
      },
      "execution_count": null,
      "outputs": []
    },
    {
      "cell_type": "code",
      "source": [
        "k_hat, theta_hat = estimate_pars(sample)\n",
        "print(k_hat, theta_hat)"
      ],
      "metadata": {
        "colab": {
          "base_uri": "https://localhost:8080/"
        },
        "id": "4jb_0_YklTsI",
        "outputId": "fe264800-9661-488c-9e6f-7ec01e1f5a00"
      },
      "execution_count": null,
      "outputs": [
        {
          "output_type": "stream",
          "name": "stdout",
          "text": [
            "3.0503863486490594 0.1971930523058737\n"
          ]
        }
      ]
    }
  ],
  "metadata": {
    "kernelspec": {
      "display_name": "Python 3",
      "language": "python",
      "name": "python3"
    },
    "language_info": {
      "codemirror_mode": {
        "name": "ipython",
        "version": 3
      },
      "file_extension": ".py",
      "mimetype": "text/x-python",
      "name": "python",
      "nbconvert_exporter": "python",
      "pygments_lexer": "ipython3",
      "version": "3.6.4"
    },
    "colab": {
      "provenance": [],
      "include_colab_link": true
    }
  },
  "nbformat": 4,
  "nbformat_minor": 0
}