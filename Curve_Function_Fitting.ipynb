{
  "nbformat": 4,
  "nbformat_minor": 0,
  "metadata": {
    "colab": {
      "provenance": [],
      "authorship_tag": "ABX9TyPGlMaFvvmR74jZlJoQVyhX",
      "include_colab_link": true
    },
    "kernelspec": {
      "name": "python3",
      "display_name": "Python 3"
    },
    "language_info": {
      "name": "python"
    }
  },
  "cells": [
    {
      "cell_type": "markdown",
      "metadata": {
        "id": "view-in-github",
        "colab_type": "text"
      },
      "source": [
        "<a href=\"https://colab.research.google.com/github/cyanidekawaii/iit_intern/blob/main/Curve_Function_Fitting.ipynb\" target=\"_parent\"><img src=\"https://colab.research.google.com/assets/colab-badge.svg\" alt=\"Open In Colab\"/></a>"
      ]
    },
    {
      "cell_type": "markdown",
      "source": [
        "Fitting data to a function ~\n",
        "\n",
        "*Why do we need to fit data to a function?*\n",
        "\n",
        "the goal of function fitting is to choose values for the parameters in a function to best describe a set of data. If a specific meaningful form for the function with a small number of free parameters is known in advance, it is called *parametric fitting* [2]."
      ],
      "metadata": {
        "id": "3Zrd7XZJXC-b"
      }
    },
    {
      "cell_type": "markdown",
      "source": [
        "~ to fit data to a function we follow the following steps [1]"
      ],
      "metadata": {
        "id": "rZw_l1kIJqW-"
      }
    },
    {
      "cell_type": "code",
      "source": [
        "#import libraries\n",
        "#import the curve_fit function from scipy [3]\n",
        "import numpy as np\n",
        "import matplotlib.pyplot as plt\n",
        "plt.rcParams[\"figure.figsize\"] = (12,5)\n",
        "from scipy.optimize import curve_fit"
      ],
      "metadata": {
        "id": "IWdNRLruJ9uR"
      },
      "execution_count": null,
      "outputs": []
    },
    {
      "cell_type": "code",
      "source": [
        "#create a list or numpy array of an independent variable (x values) and a dependent variable (y values)\n",
        "xdata = [ -10.0, -9.0, -8.0, -7.0, -6.0, -5.0, -4.0, -3.0, -2.0, -1.0, 0.0, 1.0, 2.0, 3.0, 4.0, 5.0, 6.0, 7.0, 8.0, 9.0, 10.0]\n",
        "ydata = [1.2, 4.2, 6.7, 8.3, 10.6, 11.7, 13.5, 14.5, 15.7, 16.1, 16.6, 16.0, 15.4, 14.4, 14.2, 12.7, 10.3, 8.6, 6.1, 3.9, 2.1]\n",
        "\n",
        "#recast xdata and ydata into numpy arrays so we can use their handy features\n",
        "xdata = np.asarray(xdata)\n",
        "ydata = np.asarray(ydata)\n",
        "\n",
        "#plot data\n",
        "plt.plot(xdata, ydata, 'o')"
      ],
      "metadata": {
        "colab": {
          "base_uri": "https://localhost:8080/",
          "height": 338
        },
        "id": "TL29JNfnM18N",
        "outputId": "758b651e-5214-4837-d130-190f6dd28f22"
      },
      "execution_count": null,
      "outputs": [
        {
          "output_type": "execute_result",
          "data": {
            "text/plain": [
              "[<matplotlib.lines.Line2D at 0x7f1db778d8d0>]"
            ]
          },
          "metadata": {},
          "execution_count": 25
        },
        {
          "output_type": "display_data",
          "data": {
            "text/plain": [
              "<Figure size 864x360 with 1 Axes>"
            ],
            "image/png": "[encoded data removed]"
          },
          "metadata": {
            "needs_background": "light"
          }
        }
      ]
    },
    {
      "cell_type": "markdown",
      "source": [
        "let's take two functions ~\n",
        "\n",
        "1. Gaussian Function: $y = Ae^{-Bx^{2}}$\n",
        "2. Cosine Function: $Dcos(Ex)$"
      ],
      "metadata": {
        "id": "Rij2SQczf41z"
      }
    },
    {
      "cell_type": "code",
      "source": [
        "#first function\n",
        "#create a function for the equation we want to fit. The function should accept the independent variable(s) as inputs and all the parameters to be fit\n",
        "#define the gaussian function\n",
        "def Gauss(x, A, B):\n",
        "    y = A*np.exp(-1*B*x**2)\n",
        "    return y"
      ],
      "metadata": {
        "id": "UlZhPPQ3M6Gc"
      },
      "execution_count": null,
      "outputs": []
    },
    {
      "cell_type": "code",
      "source": [
        "# use the function curve_fit from the python module scipy.optimize to fit our data [3].\n",
        "# It uses non-linear least squares to fit data to a functional form."
      ],
      "metadata": {
        "id": "KiE52ZBONB7_"
      },
      "execution_count": null,
      "outputs": []
    },
    {
      "cell_type": "code",
      "source": [
        "parameters, covariance = curve_fit(Gauss, xdata, ydata)\n",
        "\n",
        "# the curve_fit func has three reqd inputs: function you want to fit, xdata, ydata.\n",
        "\n",
        "\n",
        "# there are two outputs:\n",
        "\n",
        "# 1. array of the optimal values of the parameters (A and B)\n",
        "# 2. matrix of the estimated covariance of the parameters from which you can calculate the std error for the parameters"
      ],
      "metadata": {
        "id": "xk7C1jGPNMN-"
      },
      "execution_count": null,
      "outputs": []
    },
    {
      "cell_type": "code",
      "source": [
        "#extract the fit parameters from the output of curve_fit\n",
        "fit_A = parameters[0]\n",
        "fit_B = parameters[1]\n",
        "print(fit_A)\n",
        "print(fit_B)"
      ],
      "metadata": {
        "colab": {
          "base_uri": "https://localhost:8080/"
        },
        "id": "Do7S4quMNWoY",
        "outputId": "4fa84900-c7ac-4af3-a359-e5927b8d8817"
      },
      "execution_count": null,
      "outputs": [
        {
          "output_type": "stream",
          "name": "stdout",
          "text": [
            "16.934286340519687\n",
            "0.015739600927241554\n"
          ]
        }
      ]
    },
    {
      "cell_type": "code",
      "source": [
        "#use function to calculate y values using the fit model to see how well the model fits the data\n",
        "fit_y = Gauss(xdata, fit_A, fit_B)\n",
        "plt.plot(xdata, ydata, 'o', label='data')\n",
        "plt.plot(xdata, fit_y, '-', label='fit')\n",
        "plt.legend()\n",
        "#graphing original data and the fit equation"
      ],
      "metadata": {
        "colab": {
          "base_uri": "https://localhost:8080/",
          "height": 338
        },
        "id": "D5z_FuKnNwON",
        "outputId": "6a809029-b028-4ac2-9764-b6bf5ee33b23"
      },
      "execution_count": null,
      "outputs": [
        {
          "output_type": "execute_result",
          "data": {
            "text/plain": [
              "<matplotlib.legend.Legend at 0x7f1db774d4d0>"
            ]
          },
          "metadata": {},
          "execution_count": 30
        },
        {
          "output_type": "display_data",
          "data": {
            "text/plain": [
              "<Figure size 864x360 with 1 Axes>"
            ],
            "image/png": "[encoded data removed]"
          },
          "metadata": {
            "needs_background": "light"
          }
        }
      ]
    },
    {
      "cell_type": "markdown",
      "source": [
        "so, we're looking at the original data alongside with the fit equation that we came up with using a function(gauss in this case) and by getting the best fit values of A and B."
      ],
      "metadata": {
        "id": "wVkVdPdUS6Ai"
      }
    },
    {
      "cell_type": "code",
      "source": [
        "# to calculate the standard error of the parameters from the covariance, you take the square root of the diagonal elements of the matrix"
      ],
      "metadata": {
        "id": "tgrwZgNxUg4h"
      },
      "execution_count": null,
      "outputs": []
    },
    {
      "cell_type": "code",
      "source": [
        "SE = np.sqrt(np.diag(covariance))\n",
        "SE_A = SE[0]\n",
        "SE_B = SE[1]\n",
        "\n",
        "print(F'The value of A is {fit_A:.5f} with standard error of {SE_A:.5f}.')\n",
        "print(F'The value of B is {fit_B:.5f} with standard error of {SE_B:.5f}.')"
      ],
      "metadata": {
        "colab": {
          "base_uri": "https://localhost:8080/"
        },
        "id": "4XpQC2slNz-V",
        "outputId": "aae98db9-4852-49c8-e3c7-30360b7723cd"
      },
      "execution_count": null,
      "outputs": [
        {
          "output_type": "stream",
          "name": "stdout",
          "text": [
            "The value of A is 16.93429 with standard error of 0.35658.\n",
            "The value of B is 0.01574 with standard error of 0.00087.\n"
          ]
        }
      ]
    },
    {
      "cell_type": "markdown",
      "source": [
        "~ now we take the cosine function: $DCos(Ex)$"
      ],
      "metadata": {
        "id": "ElM9jXJvmGKO"
      }
    },
    {
      "cell_type": "code",
      "source": [
        "#following the same steps as above\n",
        "def cos_func(x, D, E):\n",
        "    y = D*np.cos(E*x)\n",
        "    return y\n",
        "\n",
        "parameters, covariance = curve_fit(cos_func, xdata, ydata)\n",
        "fit_D = parameters[0]\n",
        "fit_E = parameters[1]\n",
        "\n",
        "fit_cosine = cos_func(xdata, fit_D, fit_E)\n",
        "\n",
        "plt.plot(xdata, ydata, 'o', label='data')\n",
        "plt.plot(xdata, fit_cosine, '-', label='fit')"
      ],
      "metadata": {
        "colab": {
          "base_uri": "https://localhost:8080/",
          "height": 338
        },
        "id": "mengJGjGUjXh",
        "outputId": "ae9d0d28-63d9-4b81-d19a-bafd41be364c"
      },
      "execution_count": null,
      "outputs": [
        {
          "output_type": "execute_result",
          "data": {
            "text/plain": [
              "[<matplotlib.lines.Line2D at 0x7f1db7699cd0>]"
            ]
          },
          "metadata": {},
          "execution_count": 33
        },
        {
          "output_type": "display_data",
          "data": {
            "text/plain": [
              "<Figure size 864x360 with 1 Axes>"
            ],
            "image/png": "[encoded data removed]"
          },
          "metadata": {
            "needs_background": "light"
          }
        }
      ]
    },
    {
      "cell_type": "markdown",
      "source": [
        "~ to fix this fit we need to give a guess for what we think the parameters could be."
      ],
      "metadata": {
        "id": "9i7guyHS-hzX"
      }
    },
    {
      "cell_type": "code",
      "source": [
        "guess = [16, 0.1]#height - D param, E param - no of cycles in the 0 to 2pi interval\n",
        "parameters, covariance = curve_fit(cos_func, xdata, ydata, p0=guess)\n",
        "fit_D = parameters[0]\n",
        "fit_E = parameters[1]\n",
        "\n",
        "fit_cosine = cos_func(xdata, fit_D, fit_E)\n",
        "\n",
        "plt.plot(xdata, ydata, 'o', label='data')\n",
        "plt.plot(xdata, fit_cosine, '-', label='fit')"
      ],
      "metadata": {
        "colab": {
          "base_uri": "https://localhost:8080/",
          "height": 338
        },
        "id": "vs4WpoqeVHJI",
        "outputId": "56febf82-67b8-4b35-b77e-538189bacc5b"
      },
      "execution_count": null,
      "outputs": [
        {
          "output_type": "execute_result",
          "data": {
            "text/plain": [
              "[<matplotlib.lines.Line2D at 0x7f1db76169d0>]"
            ]
          },
          "metadata": {},
          "execution_count": 34
        },
        {
          "output_type": "display_data",
          "data": {
            "text/plain": [
              "<Figure size 864x360 with 1 Axes>"
            ],
            "image/png": "[encoded data removed]"
          },
          "metadata": {
            "needs_background": "light"
          }
        }
      ]
    }
  ]
}