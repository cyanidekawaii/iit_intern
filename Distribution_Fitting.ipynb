{
  "nbformat": 4,
  "nbformat_minor": 0,
  "metadata": {
    "colab": {
      "provenance": [],
      "authorship_tag": "ABX9TyNBavC/evIQ+UjOHf75eMjG",
      "include_colab_link": true
    },
    "kernelspec": {
      "name": "python3",
      "display_name": "Python 3"
    },
    "language_info": {
      "name": "python"
    }
  },
  "cells": [
    {
      "cell_type": "markdown",
      "metadata": {
        "id": "view-in-github",
        "colab_type": "text"
      },
      "source": [
        "<a href=\"https://colab.research.google.com/github/cyanidekawaii/iit_intern/blob/main/Distribution_Fitting.ipynb\" target=\"_parent\"><img src=\"https://colab.research.google.com/assets/colab-badge.svg\" alt=\"Open In Colab\"/></a>"
      ]
    },
    {
      "cell_type": "markdown",
      "source": [
        "Finding distributions that fit our data ~\n",
        "\n",
        "*What are probability distributions and how can we use them?*\n",
        "\n",
        "Probability distributions are functions that give the probabilities of occurrence of different possible outcomes for an experiment [4]. They help to model our world, enabling us to obtain estimates of the probability that a certain event may occur, or estimate the variability of occurence [5]."
      ],
      "metadata": {
        "id": "K62vAyZs_M9_"
      }
    },
    {
      "cell_type": "markdown",
      "source": [
        "*What is distribution fitting?*\n",
        "\n",
        "Distribution fitting is the process used to select a statistical distribution that best fits the data. The aim of distribution fitting is to predict the probability or to forecast the frequency of occurrence of the magnitude of the phenomenon in a certain interval [6].\n",
        "\n",
        "In layman terms, we fit distributions to compress our data into a model, making it easier to make predictions. We can reduce the observational data to a small number of parameters such as mean and variance. We can then use known properties of our fitted distribution to predict, for example, how likely we are to find a new observation above or below a particular value.\n",
        "\n",
        "\n",
        "Instead of estimating parameters for each possible distribution one by one, we can find the best distribution that fits our data using libraries like fitter [7] and distfit [8]."
      ],
      "metadata": {
        "id": "Sz89vqeMB9Rx"
      }
    },
    {
      "cell_type": "code",
      "execution_count": null,
      "metadata": {
        "id": "s9SfGqC88TNi",
        "colab": {
          "base_uri": "https://localhost:8080/"
        },
        "outputId": "0c337ef4-8b1c-4f87-c4c6-9c1480b94eca"
      },
      "outputs": [
        {
          "output_type": "stream",
          "name": "stdout",
          "text": [
            "Installing collected packages: fitter\n",
            "Successfully installed fitter-1.5.1\n"
          ]
        }
      ],
      "source": [
        "#installing and importing libraries\n",
        "!pip install fitter\n",
        "import numpy as np\n",
        "import pandas as pd\n",
        "import seaborn as sns\n",
        "from scipy import stats\n",
        "import matplotlib.pyplot as plt\n",
        "plt.rcParams[\"figure.figsize\"] = (12,5)"
      ]
    },
    {
      "cell_type": "code",
      "source": [
        "#generating data with gamma distribution\n",
        "data = stats.gamma.rvs(2, loc=1.5, scale=2, size=10000)"
      ],
      "metadata": {
        "id": "uJTAuSOyDnRx"
      },
      "execution_count": null,
      "outputs": []
    },
    {
      "cell_type": "markdown",
      "source": [
        "Running an instance of Fitter\n",
        "\n",
        "The Fitter class in the backend uses the Scipy library which supports 80 distributions. The Fitter class scans all of them, call the fit function, ignoring those that fail or run forever and finally give you a summary of the best distributions in the sense of sum of the square errors [7]."
      ],
      "metadata": {
        "id": "jzzLFHMvAaUw"
      }
    },
    {
      "cell_type": "markdown",
      "source": [
        "The fitting takes time by default, since it goes through each one of the 80 distributions to see which fits best. We can provide a number of distributions we think might fit the data (by plotting it) instead of letting fitter go through each distribution on its own to save run time."
      ],
      "metadata": {
        "id": "ThCzrhnNAmp_"
      }
    },
    {
      "cell_type": "code",
      "source": [
        "from fitter import Fitter\n",
        "f = Fitter(data,distributions=['gamma',\n",
        "                          \"beta\",\n",
        "                          \"norm\",\"invweibull\"])\n",
        "f.fit()\n",
        "f.summary()"
      ],
      "metadata": {
        "colab": {
          "base_uri": "https://localhost:8080/",
          "height": 496
        },
        "id": "uHFJYxDgAID7",
        "outputId": "705841d8-f166-46f6-b4d4-6bd9472bc10d"
      },
      "execution_count": null,
      "outputs": [
        {
          "output_type": "stream",
          "name": "stderr",
          "text": [
            "Fitting 4 distributions: 100%|██████████| 4/4 [00:02<00:00,  1.87it/s]\n"
          ]
        },
        {
          "output_type": "execute_result",
          "data": {
            "text/plain": [
              "            sumsquare_error          aic            bic  kl_div  ks_statistic  \\\n",
              "beta               0.001214  1137.160891 -159202.075947     inf      0.007898   \n",
              "gamma              0.001222  1134.537568 -159151.399761     inf      0.007969   \n",
              "invweibull         0.005000  1022.987097 -145059.141456     inf      0.023142   \n",
              "norm               0.060546  2085.273397 -120128.510753     inf      0.100459   \n",
              "\n",
              "               ks_pvalue  \n",
              "beta        5.581787e-01  \n",
              "gamma       5.464562e-01  \n",
              "invweibull  4.388654e-05  \n",
              "norm        2.613920e-88  "
            ],
            "text/html": [
              "\n",
              "  <div id=\"df-787ed25a-c8dd-434d-80bb-b997b0abaaf8\">\n",
              "    <div class=\"colab-df-container\">\n",
              "      <div>\n",
              "<style scoped>\n",
              "    .dataframe tbody tr th:only-of-type {\n",
              "        vertical-align: middle;\n",
              "    }\n",
              "\n",
              "    .dataframe tbody tr th {\n",
              "        vertical-align: top;\n",
              "    }\n",
              "\n",
              "    .dataframe thead th {\n",
              "        text-align: right;\n",
              "    }\n",
              "</style>\n",
              "<table border=\"1\" class=\"dataframe\">\n",
              "  <thead>\n",
              "    <tr style=\"text-align: right;\">\n",
              "      <th></th>\n",
              "      <th>sumsquare_error</th>\n",
              "      <th>aic</th>\n",
              "      <th>bic</th>\n",
              "      <th>kl_div</th>\n",
              "      <th>ks_statistic</th>\n",
              "      <th>ks_pvalue</th>\n",
              "    </tr>\n",
              "  </thead>\n",
              "  <tbody>\n",
              "    <tr>\n",
              "      <th>beta</th>\n",
              "      <td>0.001214</td>\n",
              "      <td>1137.160891</td>\n",
              "      <td>-159202.075947</td>\n",
              "      <td>inf</td>\n",
              "      <td>0.007898</td>\n",
              "      <td>5.581787e-01</td>\n",
              "    </tr>\n",
              "    <tr>\n",
              "      <th>gamma</th>\n",
              "      <td>0.001222</td>\n",
              "      <td>1134.537568</td>\n",
              "      <td>-159151.399761</td>\n",
              "      <td>inf</td>\n",
              "      <td>0.007969</td>\n",
              "      <td>5.464562e-01</td>\n",
              "    </tr>\n",
              "    <tr>\n",
              "      <th>invweibull</th>\n",
              "      <td>0.005000</td>\n",
              "      <td>1022.987097</td>\n",
              "      <td>-145059.141456</td>\n",
              "      <td>inf</td>\n",
              "      <td>0.023142</td>\n",
              "      <td>4.388654e-05</td>\n",
              "    </tr>\n",
              "    <tr>\n",
              "      <th>norm</th>\n",
              "      <td>0.060546</td>\n",
              "      <td>2085.273397</td>\n",
              "      <td>-120128.510753</td>\n",
              "      <td>inf</td>\n",
              "      <td>0.100459</td>\n",
              "      <td>2.613920e-88</td>\n",
              "    </tr>\n",
              "  </tbody>\n",
              "</table>\n",
              "</div>\n",
              "      <button class=\"colab-df-convert\" onclick=\"convertToInteractive('df-787ed25a-c8dd-434d-80bb-b997b0abaaf8')\"\n",
              "              title=\"Convert this dataframe to an interactive table.\"\n",
              "              style=\"display:none;\">\n",
              "        \n",
              "  <svg xmlns=\"http://www.w3.org/2000/svg\" height=\"24px\"viewBox=\"0 0 24 24\"\n",
              "       width=\"24px\">\n",
              "    <path d=\"M0 0h24v24H0V0z\" fill=\"none\"/>\n",
              "    <path d=\"M18.56 5.44l.94 2.06.94-2.06 2.06-.94-2.06-.94-.94-2.06-.94 2.06-2.06.94zm-11 1L8.5 8.5l.94-2.06 2.06-.94-2.06-.94L8.5 2.5l-.94 2.06-2.06.94zm10 10l.94 2.06.94-2.06 2.06-.94-2.06-.94-.94-2.06-.94 2.06-2.06.94z\"/><path d=\"M17.41 7.96l-1.37-1.37c-.4-.4-.92-.59-1.43-.59-.52 0-1.04.2-1.43.59L10.3 9.45l-7.72 7.72c-.78.78-.78 2.05 0 2.83L4 21.41c.39.39.9.59 1.41.59.51 0 1.02-.2 1.41-.59l7.78-7.78 2.81-2.81c.8-.78.8-2.07 0-2.86zM5.41 20L4 18.59l7.72-7.72 1.47 1.35L5.41 20z\"/>\n",
              "  </svg>\n",
              "      </button>\n",
              "      \n",
              "  <style>\n",
              "    .colab-df-container {\n",
              "      display:flex;\n",
              "      flex-wrap:wrap;\n",
              "      gap: 12px;\n",
              "    }\n",
              "\n",
              "    .colab-df-convert {\n",
              "      background-color: #E8F0FE;\n",
              "      border: none;\n",
              "      border-radius: 50%;\n",
              "      cursor: pointer;\n",
              "      display: none;\n",
              "      fill: #1967D2;\n",
              "      height: 32px;\n",
              "      padding: 0 0 0 0;\n",
              "      width: 32px;\n",
              "    }\n",
              "\n",
              "    .colab-df-convert:hover {\n",
              "      background-color: #E2EBFA;\n",
              "      box-shadow: 0px 1px 2px rgba(60, 64, 67, 0.3), 0px 1px 3px 1px rgba(60, 64, 67, 0.15);\n",
              "      fill: #174EA6;\n",
              "    }\n",
              "\n",
              "    [theme=dark] .colab-df-convert {\n",
              "      background-color: #3B4455;\n",
              "      fill: #D2E3FC;\n",
              "    }\n",
              "\n",
              "    [theme=dark] .colab-df-convert:hover {\n",
              "      background-color: #434B5C;\n",
              "      box-shadow: 0px 1px 3px 1px rgba(0, 0, 0, 0.15);\n",
              "      filter: drop-shadow(0px 1px 2px rgba(0, 0, 0, 0.3));\n",
              "      fill: #FFFFFF;\n",
              "    }\n",
              "  </style>\n",
              "\n",
              "      <script>\n",
              "        const buttonEl =\n",
              "          document.querySelector('#df-787ed25a-c8dd-434d-80bb-b997b0abaaf8 button.colab-df-convert');\n",
              "        buttonEl.style.display =\n",
              "          google.colab.kernel.accessAllowed ? 'block' : 'none';\n",
              "\n",
              "        async function convertToInteractive(key) {\n",
              "          const element = document.querySelector('#df-787ed25a-c8dd-434d-80bb-b997b0abaaf8');\n",
              "          const dataTable =\n",
              "            await google.colab.kernel.invokeFunction('convertToInteractive',\n",
              "                                                     [key], {});\n",
              "          if (!dataTable) return;\n",
              "\n",
              "          const docLinkHtml = 'Like what you see? Visit the ' +\n",
              "            '<a target=\"_blank\" href=https://colab.research.google.com/notebooks/data_table.ipynb>data table notebook</a>'\n",
              "            + ' to learn more about interactive tables.';\n",
              "          element.innerHTML = '';\n",
              "          dataTable['output_type'] = 'display_data';\n",
              "          await google.colab.output.renderOutput(dataTable, element);\n",
              "          const docLink = document.createElement('div');\n",
              "          docLink.innerHTML = docLinkHtml;\n",
              "          element.appendChild(docLink);\n",
              "        }\n",
              "      </script>\n",
              "    </div>\n",
              "  </div>\n",
              "  "
            ]
          },
          "metadata": {},
          "execution_count": 6
        },
        {
          "output_type": "display_data",
          "data": {
            "text/plain": [
              "<Figure size 864x360 with 1 Axes>"
            ],
            "image/png": "[encoded data removed]"
          },
          "metadata": {
            "needs_background": "light"
          }
        }
      ]
    },
    {
      "cell_type": "markdown",
      "metadata": {
        "id": "3BRibLcje9Y0"
      },
      "source": [
        "What are AIC and BIC values?\n",
        "\n",
        "-AIC and BIC are widely used in model selection criteria. AIC means Akaike’s Information Criteria and BIC means Bayesian Information Criteria. The AIC can be termed as a *mesaure of the goodness of fit of any estimated statistical model*. The BIC is a *type of model selection among a class of parametric models with different numbers of parameters* [9].\n",
        "\n",
        "-The AIC tries to select the model that most adequately describes an unknown, high dimensional reality. This means that reality is never in the set of candidate models that are being considered. On the contrary, BIC tries to find the TRUE model among the set of candidates"
      ]
    },
    {
      "cell_type": "markdown",
      "source": [
        "At first glance, we see at least two to three distributions that fit well. We'll need something quantitative to find which distribution fits our data the best. sumsquare_error, aic and bic values are what we look at here. We find that it indeed is the gamma distribution that fits the best, which was exactly the data distribution that we generated."
      ],
      "metadata": {
        "id": "ni1JeVG6fC8N"
      }
    },
    {
      "cell_type": "code",
      "source": [
        "from fitter import get_distributions\n",
        "len(get_distributions())#a list of all the possible distributions fitter goes through"
      ],
      "metadata": {
        "colab": {
          "base_uri": "https://localhost:8080/"
        },
        "id": "o5A03wLrE4xP",
        "outputId": "b0754ef5-235a-451a-b30a-4c899a10726c"
      },
      "execution_count": null,
      "outputs": [
        {
          "output_type": "execute_result",
          "data": {
            "text/plain": [
              "106"
            ]
          },
          "metadata": {},
          "execution_count": 11
        }
      ]
    },
    {
      "cell_type": "markdown",
      "source": [
        "we can choose the best distribution according to any one of the available parameters. Eg. sumsquare_error, aic, bic values etc."
      ],
      "metadata": {
        "id": "YHl4LFcYBVY0"
      }
    },
    {
      "cell_type": "code",
      "source": [
        "f.get_best(method = 'sumsquare_error')#the best distribution according to sumsquare_error"
      ],
      "metadata": {
        "colab": {
          "base_uri": "https://localhost:8080/"
        },
        "id": "slWxYD9GA8CS",
        "outputId": "8e21a606-d150-400f-95f8-c4c95da27f98"
      },
      "execution_count": null,
      "outputs": [
        {
          "output_type": "execute_result",
          "data": {
            "text/plain": [
              "{'beta': {'a': 1.9864827505245741,\n",
              "  'b': 121185.45559828822,\n",
              "  'loc': 1.5107153111835259,\n",
              "  'scale': 244490.93968276161}}"
            ]
          },
          "metadata": {},
          "execution_count": 8
        }
      ]
    },
    {
      "cell_type": "code",
      "source": [
        "f.fitted_param[\"gamma\"]#parameters of the fitted distribution"
      ],
      "metadata": {
        "colab": {
          "base_uri": "https://localhost:8080/"
        },
        "id": "UFNXvTtsBTLd",
        "outputId": "21b4753a-9121-45a6-d7e7-f945df542e5f"
      },
      "execution_count": null,
      "outputs": [
        {
          "output_type": "execute_result",
          "data": {
            "text/plain": [
              "(1.9848676752586405, 1.5108443288278561, 2.0196339995431005)"
            ]
          },
          "metadata": {},
          "execution_count": 9
        }
      ]
    }
  ]
}