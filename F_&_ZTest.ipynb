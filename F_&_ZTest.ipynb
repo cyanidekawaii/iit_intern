{
  "nbformat": 4,
  "nbformat_minor": 0,
  "metadata": {
    "colab": {
      "provenance": [],
      "authorship_tag": "ABX9TyNnYdD+ThoiOCy5QZpkKqZb",
      "include_colab_link": true
    },
    "kernelspec": {
      "name": "python3",
      "display_name": "Python 3"
    },
    "language_info": {
      "name": "python"
    }
  },
  "cells": [
    {
      "cell_type": "markdown",
      "metadata": {
        "id": "view-in-github",
        "colab_type": "text"
      },
      "source": [
        "<a href=\"https://colab.research.google.com/github/namans-git/iit_intern/blob/main/F_%26_ZTest.ipynb\" target=\"_parent\"><img src=\"https://colab.research.google.com/assets/colab-badge.svg\" alt=\"Open In Colab\"/></a>"
      ]
    },
    {
      "cell_type": "markdown",
      "source": [
        "An ***F-Test*** is another statistical test that is used in hypothesis testing  to check whether the variances of two populations or samples are equal or not."
      ],
      "metadata": {
        "id": "2ADA88u2WZCa"
      }
    },
    {
      "cell_type": "markdown",
      "source": [
        "General steps for an F-Test:\n",
        "\n",
        "1. State the Null Hypothesis ($H_0$) and the Alternate Hypothesis ($H_1$).\n",
        " * $H_0 : var_1 = var_2$ (the variances are equal)\n",
        " * $H_1 : var_1 ≠ var_2$ (the variances are not equal)\n",
        "\n",
        "2. Calculate the **F value**. The F - value is calculated using the formula $F = (sse_1 – sse_2 / m)$ / $sse_2$ / $n-k$, where $sse$ = residual sum of squares, $m$ = number of restrictions and $k$ = number of independent variables.\n",
        "\n",
        "3. Find the **F Statistic** (the **critical value** for this test). The F statistic formula is:\n",
        "F Statistic = variance of the group means / mean of the within group variances.\n",
        "We find the F Statistic in the **F-Table**.\n",
        "\n",
        "4. Support or Reject the Null Hypothesis."
      ],
      "metadata": {
        "id": "u66CER82iZ7T"
      }
    },
    {
      "cell_type": "markdown",
      "source": [
        "##### Assumptions:\n",
        "\n",
        "In order to run the test accurately, we have to make some assumptions that need to be adhered to:\n",
        "\n",
        "1. Populations must be approximately *normally distributed*.\n",
        "2. The samples must be *independent events*.\n",
        "3. The larger variance should always go in the *numerator* to force the test into a **right-tailed test**.\n",
        "4. For two-tailed tests, divide $\\alpha$ by 2 before finding the right critical value."
      ],
      "metadata": {
        "id": "geK9xvonj2Tp"
      }
    },
    {
      "cell_type": "markdown",
      "source": [
        "**When do we use the f-test?**\n",
        "\n",
        "The F-test is typically used to answer one of the following questions:\n",
        "\n",
        "1. Do two samples come from populations with equal variances?\n",
        "\n",
        "2. Does a new treatment or process reduce the variability of some current treatment or process?"
      ],
      "metadata": {
        "id": "uHs8hvZPXLfI"
      }
    },
    {
      "cell_type": "markdown",
      "source": [
        "Running the test on artificially generated data and on real world data [22] ~"
      ],
      "metadata": {
        "id": "2a2YmuvqlyI-"
      }
    },
    {
      "cell_type": "code",
      "execution_count": null,
      "metadata": {
        "id": "KiBPyhuiTjiB"
      },
      "outputs": [],
      "source": [
        "#import libraries\n",
        "import numpy as np\n",
        "import scipy.stats\n",
        "\n",
        "# defining the f-test function\n",
        "def f_test(x, y):\n",
        "  x = np.array(x)\n",
        "  y = np.array(y)\n",
        "  f = np.var(x, ddof=1)/np.var(y, ddof=1) #calculating f test statistic\n",
        "  dfn = x.size-1  #define degrees of freedom numerator\n",
        "  dfd = y.size-1  #define degrees of freedom denominator\n",
        "  p = 1 - scipy.stats.f.cdf(f, dfn, dfd) #find p-value of f-test statistic\n",
        "  return f,p"
      ]
    },
    {
      "cell_type": "code",
      "source": [
        "# sample data\n",
        "group1 = [0.28, 0.2, 0.26, 0.28, 0.5]\n",
        "group2 = [0.2, 0.23, 0.26, 0.21, 0.23]"
      ],
      "metadata": {
        "id": "8cb9oPoCbyNT"
      },
      "execution_count": null,
      "outputs": []
    },
    {
      "cell_type": "code",
      "source": [
        "f_test(group1, group2)"
      ],
      "metadata": {
        "colab": {
          "base_uri": "https://localhost:8080/"
        },
        "id": "2d3L9WkbeEtx",
        "outputId": "30957325-b024-479b-930c-6840bd511c40"
      },
      "execution_count": null,
      "outputs": [
        {
          "output_type": "execute_result",
          "data": {
            "text/plain": [
              "(24.679245283018858, 0.004431318383760985)"
            ]
          },
          "metadata": {},
          "execution_count": 3
        }
      ]
    },
    {
      "cell_type": "markdown",
      "source": [
        "we can simply say by looking at the ***p-value(0.0044)*** of the data used that the two population variances are not equal, and hence we reject the null hypothesis, i.e. the variances are equal."
      ],
      "metadata": {
        "id": "NchMwGOoeYIi"
      }
    },
    {
      "cell_type": "markdown",
      "source": [
        "Let's implement this test using real world data ~"
      ],
      "metadata": {
        "id": "-wj4whepgTcA"
      }
    },
    {
      "cell_type": "code",
      "source": [
        "import pandas as pd\n",
        "\n",
        "#dataset [21]\n",
        "df = pd.read_csv(\"https://raw.githubusercontent.com/researchpy/Data-sets/master/blood_pressure.csv\")\n",
        "df.info()"
      ],
      "metadata": {
        "id": "2yk6RaL4eNco",
        "colab": {
          "base_uri": "https://localhost:8080/"
        },
        "outputId": "89d281a0-f47b-4648-be87-86f067c00d23"
      },
      "execution_count": null,
      "outputs": [
        {
          "output_type": "stream",
          "name": "stdout",
          "text": [
            "<class 'pandas.core.frame.DataFrame'>\n",
            "RangeIndex: 120 entries, 0 to 119\n",
            "Data columns (total 5 columns):\n",
            " #   Column     Non-Null Count  Dtype \n",
            "---  ------     --------------  ----- \n",
            " 0   patient    120 non-null    int64 \n",
            " 1   sex        120 non-null    object\n",
            " 2   agegrp     120 non-null    object\n",
            " 3   bp_before  120 non-null    int64 \n",
            " 4   bp_after   120 non-null    int64 \n",
            "dtypes: int64(3), object(2)\n",
            "memory usage: 4.8+ KB\n"
          ]
        }
      ]
    },
    {
      "cell_type": "code",
      "source": [
        "#descriptive statistics\n",
        "df[df['sex'] == 'Male'].describe()"
      ],
      "metadata": {
        "colab": {
          "base_uri": "https://localhost:8080/",
          "height": 300
        },
        "id": "4Yg2aa1IPDpV",
        "outputId": "7142ddac-13f0-488c-bb05-155db28e7bdf"
      },
      "execution_count": null,
      "outputs": [
        {
          "output_type": "execute_result",
          "data": {
            "text/plain": [
              "         patient   bp_before    bp_after\n",
              "count  60.000000   60.000000   60.000000\n",
              "mean   30.500000  159.266667  155.516667\n",
              "std    17.464249   11.413442   15.243217\n",
              "min     1.000000  140.000000  125.000000\n",
              "25%    15.750000  150.750000  145.000000\n",
              "50%    30.500000  158.000000  158.500000\n",
              "75%    45.250000  170.000000  164.750000\n",
              "max    60.000000  185.000000  185.000000"
            ],
            "text/html": [
              "\n",
              "  <div id=\"df-5702bbdb-b390-477e-a936-d084e8dff845\">\n",
              "    <div class=\"colab-df-container\">\n",
              "      <div>\n",
              "<style scoped>\n",
              "    .dataframe tbody tr th:only-of-type {\n",
              "        vertical-align: middle;\n",
              "    }\n",
              "\n",
              "    .dataframe tbody tr th {\n",
              "        vertical-align: top;\n",
              "    }\n",
              "\n",
              "    .dataframe thead th {\n",
              "        text-align: right;\n",
              "    }\n",
              "</style>\n",
              "<table border=\"1\" class=\"dataframe\">\n",
              "  <thead>\n",
              "    <tr style=\"text-align: right;\">\n",
              "      <th></th>\n",
              "      <th>patient</th>\n",
              "      <th>bp_before</th>\n",
              "      <th>bp_after</th>\n",
              "    </tr>\n",
              "  </thead>\n",
              "  <tbody>\n",
              "    <tr>\n",
              "      <th>count</th>\n",
              "      <td>60.000000</td>\n",
              "      <td>60.000000</td>\n",
              "      <td>60.000000</td>\n",
              "    </tr>\n",
              "    <tr>\n",
              "      <th>mean</th>\n",
              "      <td>30.500000</td>\n",
              "      <td>159.266667</td>\n",
              "      <td>155.516667</td>\n",
              "    </tr>\n",
              "    <tr>\n",
              "      <th>std</th>\n",
              "      <td>17.464249</td>\n",
              "      <td>11.413442</td>\n",
              "      <td>15.243217</td>\n",
              "    </tr>\n",
              "    <tr>\n",
              "      <th>min</th>\n",
              "      <td>1.000000</td>\n",
              "      <td>140.000000</td>\n",
              "      <td>125.000000</td>\n",
              "    </tr>\n",
              "    <tr>\n",
              "      <th>25%</th>\n",
              "      <td>15.750000</td>\n",
              "      <td>150.750000</td>\n",
              "      <td>145.000000</td>\n",
              "    </tr>\n",
              "    <tr>\n",
              "      <th>50%</th>\n",
              "      <td>30.500000</td>\n",
              "      <td>158.000000</td>\n",
              "      <td>158.500000</td>\n",
              "    </tr>\n",
              "    <tr>\n",
              "      <th>75%</th>\n",
              "      <td>45.250000</td>\n",
              "      <td>170.000000</td>\n",
              "      <td>164.750000</td>\n",
              "    </tr>\n",
              "    <tr>\n",
              "      <th>max</th>\n",
              "      <td>60.000000</td>\n",
              "      <td>185.000000</td>\n",
              "      <td>185.000000</td>\n",
              "    </tr>\n",
              "  </tbody>\n",
              "</table>\n",
              "</div>\n",
              "      <button class=\"colab-df-convert\" onclick=\"convertToInteractive('df-5702bbdb-b390-477e-a936-d084e8dff845')\"\n",
              "              title=\"Convert this dataframe to an interactive table.\"\n",
              "              style=\"display:none;\">\n",
              "        \n",
              "  <svg xmlns=\"http://www.w3.org/2000/svg\" height=\"24px\"viewBox=\"0 0 24 24\"\n",
              "       width=\"24px\">\n",
              "    <path d=\"M0 0h24v24H0V0z\" fill=\"none\"/>\n",
              "    <path d=\"M18.56 5.44l.94 2.06.94-2.06 2.06-.94-2.06-.94-.94-2.06-.94 2.06-2.06.94zm-11 1L8.5 8.5l.94-2.06 2.06-.94-2.06-.94L8.5 2.5l-.94 2.06-2.06.94zm10 10l.94 2.06.94-2.06 2.06-.94-2.06-.94-.94-2.06-.94 2.06-2.06.94z\"/><path d=\"M17.41 7.96l-1.37-1.37c-.4-.4-.92-.59-1.43-.59-.52 0-1.04.2-1.43.59L10.3 9.45l-7.72 7.72c-.78.78-.78 2.05 0 2.83L4 21.41c.39.39.9.59 1.41.59.51 0 1.02-.2 1.41-.59l7.78-7.78 2.81-2.81c.8-.78.8-2.07 0-2.86zM5.41 20L4 18.59l7.72-7.72 1.47 1.35L5.41 20z\"/>\n",
              "  </svg>\n",
              "      </button>\n",
              "      \n",
              "  <style>\n",
              "    .colab-df-container {\n",
              "      display:flex;\n",
              "      flex-wrap:wrap;\n",
              "      gap: 12px;\n",
              "    }\n",
              "\n",
              "    .colab-df-convert {\n",
              "      background-color: #E8F0FE;\n",
              "      border: none;\n",
              "      border-radius: 50%;\n",
              "      cursor: pointer;\n",
              "      display: none;\n",
              "      fill: #1967D2;\n",
              "      height: 32px;\n",
              "      padding: 0 0 0 0;\n",
              "      width: 32px;\n",
              "    }\n",
              "\n",
              "    .colab-df-convert:hover {\n",
              "      background-color: #E2EBFA;\n",
              "      box-shadow: 0px 1px 2px rgba(60, 64, 67, 0.3), 0px 1px 3px 1px rgba(60, 64, 67, 0.15);\n",
              "      fill: #174EA6;\n",
              "    }\n",
              "\n",
              "    [theme=dark] .colab-df-convert {\n",
              "      background-color: #3B4455;\n",
              "      fill: #D2E3FC;\n",
              "    }\n",
              "\n",
              "    [theme=dark] .colab-df-convert:hover {\n",
              "      background-color: #434B5C;\n",
              "      box-shadow: 0px 1px 3px 1px rgba(0, 0, 0, 0.15);\n",
              "      filter: drop-shadow(0px 1px 2px rgba(0, 0, 0, 0.3));\n",
              "      fill: #FFFFFF;\n",
              "    }\n",
              "  </style>\n",
              "\n",
              "      <script>\n",
              "        const buttonEl =\n",
              "          document.querySelector('#df-5702bbdb-b390-477e-a936-d084e8dff845 button.colab-df-convert');\n",
              "        buttonEl.style.display =\n",
              "          google.colab.kernel.accessAllowed ? 'block' : 'none';\n",
              "\n",
              "        async function convertToInteractive(key) {\n",
              "          const element = document.querySelector('#df-5702bbdb-b390-477e-a936-d084e8dff845');\n",
              "          const dataTable =\n",
              "            await google.colab.kernel.invokeFunction('convertToInteractive',\n",
              "                                                     [key], {});\n",
              "          if (!dataTable) return;\n",
              "\n",
              "          const docLinkHtml = 'Like what you see? Visit the ' +\n",
              "            '<a target=\"_blank\" href=https://colab.research.google.com/notebooks/data_table.ipynb>data table notebook</a>'\n",
              "            + ' to learn more about interactive tables.';\n",
              "          element.innerHTML = '';\n",
              "          dataTable['output_type'] = 'display_data';\n",
              "          await google.colab.output.renderOutput(dataTable, element);\n",
              "          const docLink = document.createElement('div');\n",
              "          docLink.innerHTML = docLinkHtml;\n",
              "          element.appendChild(docLink);\n",
              "        }\n",
              "      </script>\n",
              "    </div>\n",
              "  </div>\n",
              "  "
            ]
          },
          "metadata": {},
          "execution_count": 8
        }
      ]
    },
    {
      "cell_type": "code",
      "source": [
        "#the groups that we'll be comparing\n",
        "group1 = df['bp_after'][df['sex'] == 'Male']\n",
        "group2 = df['bp_after'][df['sex'] == 'Female']"
      ],
      "metadata": {
        "id": "eWJ9YYhv1Vh4"
      },
      "execution_count": null,
      "outputs": []
    },
    {
      "cell_type": "code",
      "source": [
        "f_test(group1, group2)"
      ],
      "metadata": {
        "colab": {
          "base_uri": "https://localhost:8080/"
        },
        "id": "_t-_JxBb1hdH",
        "outputId": "120856e3-7bf6-4949-da48-137c85fe27cf"
      },
      "execution_count": null,
      "outputs": [
        {
          "output_type": "execute_result",
          "data": {
            "text/plain": [
              "(1.6850611305046137, 0.02360324462983243)"
            ]
          },
          "metadata": {},
          "execution_count": 6
        }
      ]
    },
    {
      "cell_type": "markdown",
      "source": [
        "As 0.02 < 0.05, thus, **the null hypothesis can be rejected** and there is enough evidence to conclude that there is difference in variances between the two groups."
      ],
      "metadata": {
        "id": "ZylbfxU_godX"
      }
    },
    {
      "cell_type": "markdown",
      "source": [
        "----"
      ],
      "metadata": {
        "id": "seSaS_4mUDWg"
      }
    },
    {
      "cell_type": "markdown",
      "source": [
        "***Z Test*** is used to determine whether two population means are different when the variances are known and the sample size is large.\n",
        "\n",
        "* closely related to t-tests, but t-tests are best performed when an experiment has a small sample size. z tests are best used for greater than 30 samples because under the central limit theorem, as the number of samples get larger, the samples are considered to be approximately normally distributed.\n",
        "\n",
        "* z-tests assume the standard deviation to be known, while t-tests assume it is unknown."
      ],
      "metadata": {
        "id": "5UnXJQA11-Tj"
      }
    },
    {
      "cell_type": "markdown",
      "source": [
        "> One sample z test"
      ],
      "metadata": {
        "id": "WS5w3w2fPi3b"
      }
    },
    {
      "cell_type": "code",
      "source": [
        "from statsmodels.stats.weightstats import ztest as ztest\n",
        "\n",
        "#taking a group of people who've been given the medicine and seeing if the bp has changed statistically significantly to original bp\n",
        "\n",
        "print(ztest(group1, value=155.6))#p value of 0.9, can't reject the null hypo. The means are statistically similar\n",
        "\n",
        "print(ztest(group1, value=190))#very low p value understandably. because we're taking our value to be very far apart from the mean of the group which is 159\n",
        "\n",
        "print(ztest(group1, value=163))#significant p value, we reject null hypo in this case. we'd say that the medicine did statistically significant changes."
      ],
      "metadata": {
        "colab": {
          "base_uri": "https://localhost:8080/"
        },
        "id": "GI15KuMYMNU_",
        "outputId": "64946627-9dec-4f8c-c161-396e34254d43"
      },
      "execution_count": null,
      "outputs": [
        {
          "output_type": "stream",
          "name": "stdout",
          "text": [
            "(-0.04234652336929103, 0.9662224582407137)\n",
            "(-17.522991370216605, 9.566068717867366e-69)\n",
            "(-3.8027177985631924, 0.00014311735027259506)\n"
          ]
        }
      ]
    },
    {
      "cell_type": "markdown",
      "source": [
        "> Two sample z test"
      ],
      "metadata": {
        "id": "xvwghgHnXz00"
      }
    },
    {
      "cell_type": "code",
      "source": [
        "#similarly we can compare two groups and see if the means are statistically significantly different\n",
        "ztest(group1, group2)"
      ],
      "metadata": {
        "colab": {
          "base_uri": "https://localhost:8080/"
        },
        "id": "R3FRBbGyP5tP",
        "outputId": "ec4a1dcf-8b94-4951-ece2-58ed4de23a45"
      },
      "execution_count": null,
      "outputs": [
        {
          "output_type": "execute_result",
          "data": {
            "text/plain": [
              "(3.3479506182111387, 0.000814115163437746)"
            ]
          },
          "metadata": {},
          "execution_count": 38
        }
      ]
    }
  ]
}