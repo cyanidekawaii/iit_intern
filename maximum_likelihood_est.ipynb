{
  "nbformat": 4,
  "nbformat_minor": 0,
  "metadata": {
    "colab": {
      "provenance": [],
      "authorship_tag": "ABX9TyMJr5wsD9fiP3ub+lsNBitn",
      "include_colab_link": true
    },
    "kernelspec": {
      "name": "python3",
      "display_name": "Python 3"
    },
    "language_info": {
      "name": "python"
    }
  },
  "cells": [
    {
      "cell_type": "markdown",
      "metadata": {
        "id": "view-in-github",
        "colab_type": "text"
      },
      "source": [
        "<a href=\"https://colab.research.google.com/github/namans-git/iit_intern/blob/main/maximum_likelihood_est.ipynb\" target=\"_parent\"><img src=\"https://colab.research.google.com/assets/colab-badge.svg\" alt=\"Open In Colab\"/></a>"
      ]
    },
    {
      "cell_type": "markdown",
      "source": [
        "**Parameter Estimation**\n",
        "\n",
        "Parameter Estimation is the branch of statistics that involves using sample data to estimate the parameters of a distribution and the techniques used for parameter estimation are called **estimators**.\n",
        "\n",
        "In this report, we look at some of those estimators."
      ],
      "metadata": {
        "id": "f38xZ5feJZy-"
      }
    },
    {
      "cell_type": "markdown",
      "source": [
        "Maximum Likelihood Estimator\n",
        "\n",
        "* Maximum Likelihood Estimation (MLE) is a method of estimating the parameters of a statistical model given observations, by finding the **parameter values that maximize the likelihood of making the observations given the parameters**.\n",
        "\n",
        "* With prior assumption or knowledge about the data distribution, Maximum Likelihood Estimation helps find the most likely-to-occur distribution parameters.\n",
        "\n",
        "* Maximum Likelihood Estimation iteratively searches the most likely mean and standard deviation that could have generated the distribution."
      ],
      "metadata": {
        "id": "XCbK5kYpkFhi"
      }
    },
    {
      "cell_type": "markdown",
      "source": [
        "Maximum Likelihood Estimator:\n",
        "\n",
        "$\\hat{\\theta}_{MLE}  = \\underset{\\theta \\hspace{0.1cm} \\in \\hspace{0.1cm} \\Theta}{argmax} [log(\\prod_{i=1}^{n}p_\\theta(x_i))] = \\underset{\\theta \\hspace{0.1cm} \\in \\hspace{0.1cm} \\Theta}{argmax} \\prod_{i=1}^{n}p_\\theta(x_i)$"
      ],
      "metadata": {
        "id": "Cejeek38mGRw"
      }
    },
    {
      "cell_type": "markdown",
      "source": [
        "$\\prod_{i=1}^{n}p_\\theta(x_i)$ is the likelihood function. The MLE is the 'theta' that maximizes the likelihood function. We use log-likelihood instead of likelihood for easier calculation."
      ],
      "metadata": {
        "id": "MtZhen0PzAmI"
      }
    },
    {
      "cell_type": "markdown",
      "source": [
        "Computing the maximum likelihood estimator for single-dimensional parameters we get:\n",
        "\n",
        "$\\hat{p}_{MLE} = \\frac{1}{n}\\sum_{i=1}^{n}x_i$"
      ],
      "metadata": {
        "id": "MZAnrvj6oIyD"
      }
    },
    {
      "cell_type": "markdown",
      "source": [
        "Let us implement this on real world data ~"
      ],
      "metadata": {
        "id": "qBR2gugJJLiN"
      }
    },
    {
      "cell_type": "code",
      "source": [
        "#install libraries\n",
        "#pip install fitter\n",
        "#pip install distfit"
      ],
      "metadata": {
        "id": "nWoePRtY84PF"
      },
      "execution_count": null,
      "outputs": []
    },
    {
      "cell_type": "code",
      "execution_count": null,
      "metadata": {
        "id": "gSkEQJiXKfA6"
      },
      "outputs": [],
      "source": [
        "#import libraries\n",
        "import pandas as pd\n",
        "import numpy as np\n",
        "import matplotlib.pyplot as plt\n",
        "plt.rcParams[\"figure.figsize\"] = (11, 5)\n",
        "import seaborn as sns\n",
        "import scipy.stats\n",
        "from distfit import distfit\n",
        "%matplotlib inline"
      ]
    },
    {
      "cell_type": "markdown",
      "source": [
        "USA Housing Dataset [12]"
      ],
      "metadata": {
        "id": "BTRljoT-ORw1"
      }
    },
    {
      "cell_type": "code",
      "source": [
        "#reading data\n",
        "df = pd.read_csv(\"USA_Housing.csv\")\n",
        "df.head()"
      ],
      "metadata": {
        "id": "VmkgJ48PLUM6",
        "colab": {
          "base_uri": "https://localhost:8080/",
          "height": 250
        },
        "outputId": "26dc113e-03d7-404d-9b3c-3ff808339f9d"
      },
      "execution_count": null,
      "outputs": [
        {
          "output_type": "execute_result",
          "data": {
            "text/plain": [
              "   Avg. Area Income  Avg. Area House Age  Avg. Area Number of Rooms  \\\n",
              "0      79545.458574             5.682861                   7.009188   \n",
              "1      79248.642455             6.002900                   6.730821   \n",
              "2      61287.067179             5.865890                   8.512727   \n",
              "3      63345.240046             7.188236                   5.586729   \n",
              "4      59982.197226             5.040555                   7.839388   \n",
              "\n",
              "   Avg. Area Number of Bedrooms  Area Population         Price  \\\n",
              "0                          4.09     23086.800503  1.059034e+06   \n",
              "1                          3.09     40173.072174  1.505891e+06   \n",
              "2                          5.13     36882.159400  1.058988e+06   \n",
              "3                          3.26     34310.242831  1.260617e+06   \n",
              "4                          4.23     26354.109472  6.309435e+05   \n",
              "\n",
              "                                             Address  \n",
              "0  208 Michael Ferry Apt. 674\\nLaurabury, NE 3701...  \n",
              "1  188 Johnson Views Suite 079\\nLake Kathleen, CA...  \n",
              "2  9127 Elizabeth Stravenue\\nDanieltown, WI 06482...  \n",
              "3                          USS Barnett\\nFPO AP 44820  \n",
              "4                         USNS Raymond\\nFPO AE 09386  "
            ],
            "text/html": [
              "\n",
              "  <div id=\"df-385c72f2-3f21-4b9c-8328-7e3dc846d55d\">\n",
              "    <div class=\"colab-df-container\">\n",
              "      <div>\n",
              "<style scoped>\n",
              "    .dataframe tbody tr th:only-of-type {\n",
              "        vertical-align: middle;\n",
              "    }\n",
              "\n",
              "    .dataframe tbody tr th {\n",
              "        vertical-align: top;\n",
              "    }\n",
              "\n",
              "    .dataframe thead th {\n",
              "        text-align: right;\n",
              "    }\n",
              "</style>\n",
              "<table border=\"1\" class=\"dataframe\">\n",
              "  <thead>\n",
              "    <tr style=\"text-align: right;\">\n",
              "      <th></th>\n",
              "      <th>Avg. Area Income</th>\n",
              "      <th>Avg. Area House Age</th>\n",
              "      <th>Avg. Area Number of Rooms</th>\n",
              "      <th>Avg. Area Number of Bedrooms</th>\n",
              "      <th>Area Population</th>\n",
              "      <th>Price</th>\n",
              "      <th>Address</th>\n",
              "    </tr>\n",
              "  </thead>\n",
              "  <tbody>\n",
              "    <tr>\n",
              "      <th>0</th>\n",
              "      <td>79545.458574</td>\n",
              "      <td>5.682861</td>\n",
              "      <td>7.009188</td>\n",
              "      <td>4.09</td>\n",
              "      <td>23086.800503</td>\n",
              "      <td>1.059034e+06</td>\n",
              "      <td>208 Michael Ferry Apt. 674\\nLaurabury, NE 3701...</td>\n",
              "    </tr>\n",
              "    <tr>\n",
              "      <th>1</th>\n",
              "      <td>79248.642455</td>\n",
              "      <td>6.002900</td>\n",
              "      <td>6.730821</td>\n",
              "      <td>3.09</td>\n",
              "      <td>40173.072174</td>\n",
              "      <td>1.505891e+06</td>\n",
              "      <td>188 Johnson Views Suite 079\\nLake Kathleen, CA...</td>\n",
              "    </tr>\n",
              "    <tr>\n",
              "      <th>2</th>\n",
              "      <td>61287.067179</td>\n",
              "      <td>5.865890</td>\n",
              "      <td>8.512727</td>\n",
              "      <td>5.13</td>\n",
              "      <td>36882.159400</td>\n",
              "      <td>1.058988e+06</td>\n",
              "      <td>9127 Elizabeth Stravenue\\nDanieltown, WI 06482...</td>\n",
              "    </tr>\n",
              "    <tr>\n",
              "      <th>3</th>\n",
              "      <td>63345.240046</td>\n",
              "      <td>7.188236</td>\n",
              "      <td>5.586729</td>\n",
              "      <td>3.26</td>\n",
              "      <td>34310.242831</td>\n",
              "      <td>1.260617e+06</td>\n",
              "      <td>USS Barnett\\nFPO AP 44820</td>\n",
              "    </tr>\n",
              "    <tr>\n",
              "      <th>4</th>\n",
              "      <td>59982.197226</td>\n",
              "      <td>5.040555</td>\n",
              "      <td>7.839388</td>\n",
              "      <td>4.23</td>\n",
              "      <td>26354.109472</td>\n",
              "      <td>6.309435e+05</td>\n",
              "      <td>USNS Raymond\\nFPO AE 09386</td>\n",
              "    </tr>\n",
              "  </tbody>\n",
              "</table>\n",
              "</div>\n",
              "      <button class=\"colab-df-convert\" onclick=\"convertToInteractive('df-385c72f2-3f21-4b9c-8328-7e3dc846d55d')\"\n",
              "              title=\"Convert this dataframe to an interactive table.\"\n",
              "              style=\"display:none;\">\n",
              "        \n",
              "  <svg xmlns=\"http://www.w3.org/2000/svg\" height=\"24px\"viewBox=\"0 0 24 24\"\n",
              "       width=\"24px\">\n",
              "    <path d=\"M0 0h24v24H0V0z\" fill=\"none\"/>\n",
              "    <path d=\"M18.56 5.44l.94 2.06.94-2.06 2.06-.94-2.06-.94-.94-2.06-.94 2.06-2.06.94zm-11 1L8.5 8.5l.94-2.06 2.06-.94-2.06-.94L8.5 2.5l-.94 2.06-2.06.94zm10 10l.94 2.06.94-2.06 2.06-.94-2.06-.94-.94-2.06-.94 2.06-2.06.94z\"/><path d=\"M17.41 7.96l-1.37-1.37c-.4-.4-.92-.59-1.43-.59-.52 0-1.04.2-1.43.59L10.3 9.45l-7.72 7.72c-.78.78-.78 2.05 0 2.83L4 21.41c.39.39.9.59 1.41.59.51 0 1.02-.2 1.41-.59l7.78-7.78 2.81-2.81c.8-.78.8-2.07 0-2.86zM5.41 20L4 18.59l7.72-7.72 1.47 1.35L5.41 20z\"/>\n",
              "  </svg>\n",
              "      </button>\n",
              "      \n",
              "  <style>\n",
              "    .colab-df-container {\n",
              "      display:flex;\n",
              "      flex-wrap:wrap;\n",
              "      gap: 12px;\n",
              "    }\n",
              "\n",
              "    .colab-df-convert {\n",
              "      background-color: #E8F0FE;\n",
              "      border: none;\n",
              "      border-radius: 50%;\n",
              "      cursor: pointer;\n",
              "      display: none;\n",
              "      fill: #1967D2;\n",
              "      height: 32px;\n",
              "      padding: 0 0 0 0;\n",
              "      width: 32px;\n",
              "    }\n",
              "\n",
              "    .colab-df-convert:hover {\n",
              "      background-color: #E2EBFA;\n",
              "      box-shadow: 0px 1px 2px rgba(60, 64, 67, 0.3), 0px 1px 3px 1px rgba(60, 64, 67, 0.15);\n",
              "      fill: #174EA6;\n",
              "    }\n",
              "\n",
              "    [theme=dark] .colab-df-convert {\n",
              "      background-color: #3B4455;\n",
              "      fill: #D2E3FC;\n",
              "    }\n",
              "\n",
              "    [theme=dark] .colab-df-convert:hover {\n",
              "      background-color: #434B5C;\n",
              "      box-shadow: 0px 1px 3px 1px rgba(0, 0, 0, 0.15);\n",
              "      filter: drop-shadow(0px 1px 2px rgba(0, 0, 0, 0.3));\n",
              "      fill: #FFFFFF;\n",
              "    }\n",
              "  </style>\n",
              "\n",
              "      <script>\n",
              "        const buttonEl =\n",
              "          document.querySelector('#df-385c72f2-3f21-4b9c-8328-7e3dc846d55d button.colab-df-convert');\n",
              "        buttonEl.style.display =\n",
              "          google.colab.kernel.accessAllowed ? 'block' : 'none';\n",
              "\n",
              "        async function convertToInteractive(key) {\n",
              "          const element = document.querySelector('#df-385c72f2-3f21-4b9c-8328-7e3dc846d55d');\n",
              "          const dataTable =\n",
              "            await google.colab.kernel.invokeFunction('convertToInteractive',\n",
              "                                                     [key], {});\n",
              "          if (!dataTable) return;\n",
              "\n",
              "          const docLinkHtml = 'Like what you see? Visit the ' +\n",
              "            '<a target=\"_blank\" href=https://colab.research.google.com/notebooks/data_table.ipynb>data table notebook</a>'\n",
              "            + ' to learn more about interactive tables.';\n",
              "          element.innerHTML = '';\n",
              "          dataTable['output_type'] = 'display_data';\n",
              "          await google.colab.output.renderOutput(dataTable, element);\n",
              "          const docLink = document.createElement('div');\n",
              "          docLink.innerHTML = docLinkHtml;\n",
              "          element.appendChild(docLink);\n",
              "        }\n",
              "      </script>\n",
              "    </div>\n",
              "  </div>\n",
              "  "
            ]
          },
          "metadata": {},
          "execution_count": 3
        }
      ]
    },
    {
      "cell_type": "markdown",
      "source": [
        "Exploratory Data Analysis ~"
      ],
      "metadata": {
        "id": "fvT-XvV860Kt"
      }
    },
    {
      "cell_type": "code",
      "source": [
        "#our target variable/column\n",
        "sns.displot(df['Avg. Area House Age'])"
      ],
      "metadata": {
        "colab": {
          "base_uri": "https://localhost:8080/",
          "height": 387
        },
        "id": "G6bbBTtdMVth",
        "outputId": "5c9ed9ae-5fa2-4f61-844d-8c9d2e1f5812"
      },
      "execution_count": null,
      "outputs": [
        {
          "output_type": "execute_result",
          "data": {
            "text/plain": [
              "<seaborn.axisgrid.FacetGrid at 0x7f19acc17f50>"
            ]
          },
          "metadata": {},
          "execution_count": 4
        },
        {
          "output_type": "display_data",
          "data": {
            "text/plain": [
              "<Figure size 360x360 with 1 Axes>"
            ],
            "image/png": "[encoded data removed]"
          },
          "metadata": {
            "needs_background": "light"
          }
        }
      ]
    },
    {
      "cell_type": "code",
      "source": [
        "#viewing the probability distribution function\n",
        "plt.hist(df['Avg. Area House Age'], bins = 100, density = True)\n",
        "plt.show()"
      ],
      "metadata": {
        "colab": {
          "base_uri": "https://localhost:8080/",
          "height": 265
        },
        "id": "KRREok3xSpZP",
        "outputId": "d6e46a81-2328-4ac8-e472-a4b0b58232af"
      },
      "execution_count": null,
      "outputs": [
        {
          "output_type": "display_data",
          "data": {
            "text/plain": [
              "<Figure size 432x288 with 1 Axes>"
            ],
            "image/png": "[encoded data removed]"
          },
          "metadata": {
            "needs_background": "light"
          }
        }
      ]
    },
    {
      "cell_type": "markdown",
      "source": [
        "Using external libraries (DistFit and Fitter) to find the distribution of our variable ~"
      ],
      "metadata": {
        "id": "iYgwLLHd66xE"
      }
    },
    {
      "cell_type": "code",
      "source": [
        "X = df['Avg. Area House Age'].values #creating a numpy array"
      ],
      "metadata": {
        "id": "UIXtFwuM66Ck"
      },
      "execution_count": null,
      "outputs": []
    },
    {
      "cell_type": "code",
      "source": [
        "# initialize distfit\n",
        "dist = distfit()\n",
        "\n",
        "# determine best-fitting probability distribution for data\n",
        "dist.fit_transform(X)"
      ],
      "metadata": {
        "colab": {
          "base_uri": "https://localhost:8080/"
        },
        "id": "ySl8zzo47KYV",
        "outputId": "c175bf1e-bf1c-4a34-8ab1-55f0e73d8676"
      },
      "execution_count": null,
      "outputs": [
        {
          "output_type": "stream",
          "name": "stdout",
          "text": [
            "[distfit] >fit..\n",
            "[distfit] >transform..\n",
            "[distfit] >[norm      ] [0.00 sec] [RSS: 0.00980068] [loc=5.977 scale=0.991]\n",
            "[distfit] >[expon     ] [0.00 sec] [RSS: 1.46752] [loc=2.644 scale=3.333]\n",
            "[distfit] >[pareto    ] [0.19 sec] [RSS: 2.05316] [loc=-0.008 scale=2.653]\n",
            "[distfit] >[dweibull  ] [0.12 sec] [RSS: 0.0176146] [loc=5.972 scale=0.855]\n",
            "[distfit] >[t         ] [0.16 sec] [RSS: 0.00980056] [loc=5.977 scale=0.991]\n",
            "[distfit] >[genextreme] [0.19 sec] [RSS: 0.0149023] [loc=5.608 scale=0.987]\n",
            "[distfit] >[gamma     ] [0.18 sec] [RSS: 0.00979059] [loc=-272.155 scale=0.004]\n",
            "[distfit] >[lognorm   ] [0.46 sec] [RSS: 0.00984031] [loc=-95.886 scale=101.858]\n",
            "[distfit] >[beta      ] [0.16 sec] [RSS: 0.0099677] [loc=-1.998 scale=15.698]\n",
            "[distfit] >[uniform   ] [0.00 sec] [RSS: 1.01482] [loc=2.644 scale=6.875]\n",
            "[distfit] >[loggamma  ] [0.17 sec] [RSS: 0.0100465] [loc=-171.453 scale=26.891]\n",
            "[distfit] >Compute confidence interval [parametric]\n"
          ]
        },
        {
          "output_type": "execute_result",
          "data": {
            "text/plain": [
              "{'model': {'distr': <scipy.stats._continuous_distns.gamma_gen at 0x7f19b0eb3c50>,\n",
              "  'stats': 'RSS',\n",
              "  'params': (78709.53470699734, -272.15494186524063, 0.0035336521454779734),\n",
              "  'name': 'gamma',\n",
              "  'model': <scipy.stats._distn_infrastructure.rv_frozen at 0x7f19aea2e8d0>,\n",
              "  'score': 0.009790593346559033,\n",
              "  'loc': -272.15494186524063,\n",
              "  'scale': 0.0035336521454779734,\n",
              "  'arg': (78709.53470699734,),\n",
              "  'CII_min_alpha': 4.3485208192788605,\n",
              "  'CII_max_alpha': 7.609845686245251},\n",
              " 'summary':          distr     score  LLE         loc       scale  \\\n",
              " 0        gamma  0.009791  NaN -272.154942    0.003534   \n",
              " 1            t  0.009801  NaN    5.977235    0.991371   \n",
              " 2         norm  0.009801  NaN    5.977222    0.991357   \n",
              " 3      lognorm   0.00984  NaN  -95.886398  101.858289   \n",
              " 4         beta  0.009968  NaN   -1.997678   15.698361   \n",
              " 5     loggamma  0.010047  NaN -171.453171   26.891315   \n",
              " 6   genextreme  0.014902  NaN    5.608434    0.986801   \n",
              " 7     dweibull  0.017615  NaN    5.971571    0.855415   \n",
              " 8      uniform  1.014822  NaN    2.644304    6.874784   \n",
              " 9        expon  1.467525  NaN    2.644304    3.332918   \n",
              " 10      pareto  2.053161  NaN     -0.0082    2.652505   \n",
              " \n",
              "                                          arg  \n",
              " 0                       (78709.53470699734,)  \n",
              " 1                      (3070287.2474230044,)  \n",
              " 2                                         ()  \n",
              " 3                    (0.009728552041789254,)  \n",
              " 4   (31.328964343443587, 30.341181422975065)  \n",
              " 5                       (734.2052314395564,)  \n",
              " 6                      (0.2465967348166822,)  \n",
              " 7                      (1.2875599731892235,)  \n",
              " 8                                         ()  \n",
              " 9                                         ()  \n",
              " 10                     (1.2516399296938006,)  ,\n",
              " 'histdata': (array([0.00290918, 0.00290918, 0.00436377, 0.00436377, 0.00727296,\n",
              "         0.01890969, 0.02181887, 0.03200101, 0.02327346, 0.05381987,\n",
              "         0.07418415, 0.10182138, 0.09600302, 0.13964075, 0.14982289,\n",
              "         0.18909685, 0.21673409, 0.25164427, 0.28219069, 0.32437383,\n",
              "         0.38837585, 0.40292176, 0.41019471, 0.3636478 , 0.37819371,\n",
              "         0.35928402, 0.38546666, 0.39710339, 0.3301922 , 0.33164679,\n",
              "         0.26619019, 0.22837082, 0.21818868, 0.17746012, 0.12945862,\n",
              "         0.12800402, 0.10036679, 0.07418415, 0.0494561 , 0.04654692,\n",
              "         0.03781937, 0.03054641, 0.01890969, 0.01018214, 0.00290918,\n",
              "         0.00290918, 0.00436377, 0.00145459, 0.        , 0.00145459]),\n",
              "  array([2.71305202, 2.8505477 , 2.98804338, 3.12553906, 3.26303474,\n",
              "         3.40053041, 3.53802609, 3.67552177, 3.81301745, 3.95051312,\n",
              "         4.0880088 , 4.22550448, 4.36300016, 4.50049583, 4.63799151,\n",
              "         4.77548719, 4.91298287, 5.05047854, 5.18797422, 5.3254699 ,\n",
              "         5.46296558, 5.60046125, 5.73795693, 5.87545261, 6.01294829,\n",
              "         6.15044396, 6.28793964, 6.42543532, 6.562931  , 6.70042668,\n",
              "         6.83792235, 6.97541803, 7.11291371, 7.25040939, 7.38790506,\n",
              "         7.52540074, 7.66289642, 7.8003921 , 7.93788777, 8.07538345,\n",
              "         8.21287913, 8.35037481, 8.48787048, 8.62536616, 8.76286184,\n",
              "         8.90035752, 9.03785319, 9.17534887, 9.31284455, 9.45034023])),\n",
              " 'size': 5000,\n",
              " 'alpha': 0.05,\n",
              " 'stats': 'RSS',\n",
              " 'bins': 50,\n",
              " 'bound': 'both',\n",
              " 'distr': 'popular',\n",
              " 'method': 'parametric',\n",
              " 'multtest': 'fdr_bh',\n",
              " 'n_perm': 10000,\n",
              " 'smooth': None,\n",
              " 'weighted': True,\n",
              " 'f': 1.5}"
            ]
          },
          "metadata": {},
          "execution_count": 7
        }
      ]
    },
    {
      "cell_type": "code",
      "source": [
        "dist.plot()"
      ],
      "metadata": {
        "colab": {
          "base_uri": "https://localhost:8080/",
          "height": 598
        },
        "id": "X5RfjCWP7N-6",
        "outputId": "2b9c161c-2545-4514-a320-3cb41b79f225"
      },
      "execution_count": null,
      "outputs": [
        {
          "output_type": "stream",
          "name": "stdout",
          "text": [
            "[distfit] >plot..\n"
          ]
        },
        {
          "output_type": "execute_result",
          "data": {
            "text/plain": [
              "(<Figure size 720x576 with 1 Axes>,\n",
              " <matplotlib.axes._subplots.AxesSubplot at 0x7f19a9cb5c10>)"
            ]
          },
          "metadata": {},
          "execution_count": 8
        },
        {
          "output_type": "display_data",
          "data": {
            "text/plain": [
              "<Figure size 720x576 with 1 Axes>"
            ],
            "image/png": "[encoded data removed]"
          },
          "metadata": {
            "needs_background": "light"
          }
        }
      ]
    },
    {
      "cell_type": "code",
      "source": [
        "dist.plot_summary()"
      ],
      "metadata": {
        "colab": {
          "base_uri": "https://localhost:8080/",
          "height": 604
        },
        "id": "yTombwy37RiC",
        "outputId": "4b968358-d2f2-4812-c6d4-a41903fb2750"
      },
      "execution_count": null,
      "outputs": [
        {
          "output_type": "stream",
          "name": "stdout",
          "text": [
            "[distfit] >plot summary..\n"
          ]
        },
        {
          "output_type": "execute_result",
          "data": {
            "text/plain": [
              "(<Figure size 1080x576 with 1 Axes>,\n",
              " <matplotlib.axes._subplots.AxesSubplot at 0x7f19a9bca650>)"
            ]
          },
          "metadata": {},
          "execution_count": 9
        },
        {
          "output_type": "display_data",
          "data": {
            "text/plain": [
              "<Figure size 1080x576 with 1 Axes>"
            ],
            "image/png": "[encoded data removed]"
          },
          "metadata": {
            "needs_background": "light"
          }
        }
      ]
    },
    {
      "cell_type": "markdown",
      "source": [
        "Fitter"
      ],
      "metadata": {
        "id": "XsRyJaR18TMk"
      }
    },
    {
      "cell_type": "code",
      "source": [
        "from fitter import Fitter, get_common_distributions, get_distributions"
      ],
      "metadata": {
        "id": "CdOmDXYO81aV"
      },
      "execution_count": null,
      "outputs": []
    },
    {
      "cell_type": "code",
      "source": [
        "plt.rcParams[\"figure.figsize\"] = (11, 5)\n",
        "f = Fitter(X, distributions = ['norm','gamma','invweibull','reciprocal'])\n",
        "f.fit()\n",
        "f.summary()"
      ],
      "metadata": {
        "colab": {
          "base_uri": "https://localhost:8080/",
          "height": 496
        },
        "id": "Thb8FYnS8Tk0",
        "outputId": "e0965f16-2753-4eb8-b15f-de8e983b8b44"
      },
      "execution_count": null,
      "outputs": [
        {
          "output_type": "stream",
          "name": "stderr",
          "text": [
            "Fitting 4 distributions: 100%|██████████| 4/4 [00:21<00:00,  5.35s/it]\n"
          ]
        },
        {
          "output_type": "execute_result",
          "data": {
            "text/plain": [
              "            sumsquare_error         aic           bic  kl_div  ks_statistic  \\\n",
              "gamma              0.039972  589.653110 -58658.247355     inf      0.008316   \n",
              "norm               0.039983  587.875022 -58665.479247     inf      0.008218   \n",
              "invweibull         0.247172  628.365162 -49548.776332     inf      0.061857   \n",
              "reciprocal         4.164641         inf -35418.746394     NaN      1.000000   \n",
              "\n",
              "               ks_pvalue  \n",
              "gamma       8.767835e-01  \n",
              "norm        8.854479e-01  \n",
              "invweibull  4.490704e-17  \n",
              "reciprocal  0.000000e+00  "
            ],
            "text/html": [
              "\n",
              "  <div id=\"df-15ea327e-dd47-4223-a14f-b46f86485335\">\n",
              "    <div class=\"colab-df-container\">\n",
              "      <div>\n",
              "<style scoped>\n",
              "    .dataframe tbody tr th:only-of-type {\n",
              "        vertical-align: middle;\n",
              "    }\n",
              "\n",
              "    .dataframe tbody tr th {\n",
              "        vertical-align: top;\n",
              "    }\n",
              "\n",
              "    .dataframe thead th {\n",
              "        text-align: right;\n",
              "    }\n",
              "</style>\n",
              "<table border=\"1\" class=\"dataframe\">\n",
              "  <thead>\n",
              "    <tr style=\"text-align: right;\">\n",
              "      <th></th>\n",
              "      <th>sumsquare_error</th>\n",
              "      <th>aic</th>\n",
              "      <th>bic</th>\n",
              "      <th>kl_div</th>\n",
              "      <th>ks_statistic</th>\n",
              "      <th>ks_pvalue</th>\n",
              "    </tr>\n",
              "  </thead>\n",
              "  <tbody>\n",
              "    <tr>\n",
              "      <th>gamma</th>\n",
              "      <td>0.039972</td>\n",
              "      <td>589.653110</td>\n",
              "      <td>-58658.247355</td>\n",
              "      <td>inf</td>\n",
              "      <td>0.008316</td>\n",
              "      <td>8.767835e-01</td>\n",
              "    </tr>\n",
              "    <tr>\n",
              "      <th>norm</th>\n",
              "      <td>0.039983</td>\n",
              "      <td>587.875022</td>\n",
              "      <td>-58665.479247</td>\n",
              "      <td>inf</td>\n",
              "      <td>0.008218</td>\n",
              "      <td>8.854479e-01</td>\n",
              "    </tr>\n",
              "    <tr>\n",
              "      <th>invweibull</th>\n",
              "      <td>0.247172</td>\n",
              "      <td>628.365162</td>\n",
              "      <td>-49548.776332</td>\n",
              "      <td>inf</td>\n",
              "      <td>0.061857</td>\n",
              "      <td>4.490704e-17</td>\n",
              "    </tr>\n",
              "    <tr>\n",
              "      <th>reciprocal</th>\n",
              "      <td>4.164641</td>\n",
              "      <td>inf</td>\n",
              "      <td>-35418.746394</td>\n",
              "      <td>NaN</td>\n",
              "      <td>1.000000</td>\n",
              "      <td>0.000000e+00</td>\n",
              "    </tr>\n",
              "  </tbody>\n",
              "</table>\n",
              "</div>\n",
              "      <button class=\"colab-df-convert\" onclick=\"convertToInteractive('df-15ea327e-dd47-4223-a14f-b46f86485335')\"\n",
              "              title=\"Convert this dataframe to an interactive table.\"\n",
              "              style=\"display:none;\">\n",
              "        \n",
              "  <svg xmlns=\"http://www.w3.org/2000/svg\" height=\"24px\"viewBox=\"0 0 24 24\"\n",
              "       width=\"24px\">\n",
              "    <path d=\"M0 0h24v24H0V0z\" fill=\"none\"/>\n",
              "    <path d=\"M18.56 5.44l.94 2.06.94-2.06 2.06-.94-2.06-.94-.94-2.06-.94 2.06-2.06.94zm-11 1L8.5 8.5l.94-2.06 2.06-.94-2.06-.94L8.5 2.5l-.94 2.06-2.06.94zm10 10l.94 2.06.94-2.06 2.06-.94-2.06-.94-.94-2.06-.94 2.06-2.06.94z\"/><path d=\"M17.41 7.96l-1.37-1.37c-.4-.4-.92-.59-1.43-.59-.52 0-1.04.2-1.43.59L10.3 9.45l-7.72 7.72c-.78.78-.78 2.05 0 2.83L4 21.41c.39.39.9.59 1.41.59.51 0 1.02-.2 1.41-.59l7.78-7.78 2.81-2.81c.8-.78.8-2.07 0-2.86zM5.41 20L4 18.59l7.72-7.72 1.47 1.35L5.41 20z\"/>\n",
              "  </svg>\n",
              "      </button>\n",
              "      \n",
              "  <style>\n",
              "    .colab-df-container {\n",
              "      display:flex;\n",
              "      flex-wrap:wrap;\n",
              "      gap: 12px;\n",
              "    }\n",
              "\n",
              "    .colab-df-convert {\n",
              "      background-color: #E8F0FE;\n",
              "      border: none;\n",
              "      border-radius: 50%;\n",
              "      cursor: pointer;\n",
              "      display: none;\n",
              "      fill: #1967D2;\n",
              "      height: 32px;\n",
              "      padding: 0 0 0 0;\n",
              "      width: 32px;\n",
              "    }\n",
              "\n",
              "    .colab-df-convert:hover {\n",
              "      background-color: #E2EBFA;\n",
              "      box-shadow: 0px 1px 2px rgba(60, 64, 67, 0.3), 0px 1px 3px 1px rgba(60, 64, 67, 0.15);\n",
              "      fill: #174EA6;\n",
              "    }\n",
              "\n",
              "    [theme=dark] .colab-df-convert {\n",
              "      background-color: #3B4455;\n",
              "      fill: #D2E3FC;\n",
              "    }\n",
              "\n",
              "    [theme=dark] .colab-df-convert:hover {\n",
              "      background-color: #434B5C;\n",
              "      box-shadow: 0px 1px 3px 1px rgba(0, 0, 0, 0.15);\n",
              "      filter: drop-shadow(0px 1px 2px rgba(0, 0, 0, 0.3));\n",
              "      fill: #FFFFFF;\n",
              "    }\n",
              "  </style>\n",
              "\n",
              "      <script>\n",
              "        const buttonEl =\n",
              "          document.querySelector('#df-15ea327e-dd47-4223-a14f-b46f86485335 button.colab-df-convert');\n",
              "        buttonEl.style.display =\n",
              "          google.colab.kernel.accessAllowed ? 'block' : 'none';\n",
              "\n",
              "        async function convertToInteractive(key) {\n",
              "          const element = document.querySelector('#df-15ea327e-dd47-4223-a14f-b46f86485335');\n",
              "          const dataTable =\n",
              "            await google.colab.kernel.invokeFunction('convertToInteractive',\n",
              "                                                     [key], {});\n",
              "          if (!dataTable) return;\n",
              "\n",
              "          const docLinkHtml = 'Like what you see? Visit the ' +\n",
              "            '<a target=\"_blank\" href=https://colab.research.google.com/notebooks/data_table.ipynb>data table notebook</a>'\n",
              "            + ' to learn more about interactive tables.';\n",
              "          element.innerHTML = '';\n",
              "          dataTable['output_type'] = 'display_data';\n",
              "          await google.colab.output.renderOutput(dataTable, element);\n",
              "          const docLink = document.createElement('div');\n",
              "          docLink.innerHTML = docLinkHtml;\n",
              "          element.appendChild(docLink);\n",
              "        }\n",
              "      </script>\n",
              "    </div>\n",
              "  </div>\n",
              "  "
            ]
          },
          "metadata": {},
          "execution_count": 22
        },
        {
          "output_type": "display_data",
          "data": {
            "text/plain": [
              "<Figure size 792x360 with 1 Axes>"
            ],
            "image/png": "[encoded data removed]"
          },
          "metadata": {
            "needs_background": "light"
          }
        }
      ]
    },
    {
      "cell_type": "markdown",
      "source": [
        "Though the gamma distribution has a better sumsquare_error value (which is what is indicated by DistFit as well), we have the luxury to look at other parameters as well, which include AIC and BIC values.\n",
        "\n",
        "A lower AIC value indicates a better-fit model, which is 'norm' in this case and as the complexity of a model increases, BIC value increases and as likelihood increases, BIC decreases. So, a lower score is better.\n",
        "\n",
        "Hence, we can to the conclusion that the distribution that best fits the data is '**normal**' distribution. The difference between the sumsquare error score between 'gamma' and 'norm' is minute, so AIC and BIC values are what we can look at and they indicate a normal distribution.\n",
        "\n",
        "---"
      ],
      "metadata": {
        "id": "VvHMBhSePUPj"
      }
    },
    {
      "cell_type": "code",
      "source": [
        "## lets take an artificially generated dataset to understand maximum likelihood estimation\n",
        "## random normal distribution\n",
        "\n",
        "mean = 0\n",
        "std = 5\n",
        "n_points = 100\n",
        "data = np.random.normal(mean,std,n_points)\n",
        "ax = sns.distplot(data, hist = False)"
      ],
      "metadata": {
        "colab": {
          "base_uri": "https://localhost:8080/",
          "height": 320
        },
        "id": "Sd-ueYk-woGK",
        "outputId": "0e3629e7-f6e8-46a7-f3f5-2aa733181248"
      },
      "execution_count": null,
      "outputs": [
        {
          "output_type": "display_data",
          "data": {
            "text/plain": [
              "<Figure size 792x360 with 1 Axes>"
            ],
            "image/png": "[encoded data removed]"
          },
          "metadata": {
            "needs_background": "light"
          }
        }
      ]
    },
    {
      "cell_type": "markdown",
      "source": [
        "Formula for mean using MLE: $\\mu_{ML} =  \\frac{1}{N}\\sum_{n=1}^{N}x_n$"
      ],
      "metadata": {
        "id": "Ti_QGrp0o97S"
      }
    },
    {
      "cell_type": "code",
      "source": [
        "mu_ML = 1/n_points*sum(data)\n",
        "print(\"Maximum Likelihood estimation of the mean is \" + str(mu_ML))\n",
        "print(\"The actual mean is \"+ str(mean))"
      ],
      "metadata": {
        "colab": {
          "base_uri": "https://localhost:8080/"
        },
        "id": "43QnxbALxKZn",
        "outputId": "5cd211e4-75ef-457c-b782-9e876cf96769"
      },
      "execution_count": null,
      "outputs": [
        {
          "output_type": "stream",
          "name": "stdout",
          "text": [
            "Maximum Likelihood estimation of the mean is -0.5492845440505104\n",
            "The actual mean is 0\n"
          ]
        }
      ]
    },
    {
      "cell_type": "markdown",
      "source": [
        "Formula for variance using MLE:\n",
        "$\\sigma^{2}_{ML} =  \\frac{1}{N}\\sum_{n=1}^{N}(x_n - \\mu_{ML})^{2}$"
      ],
      "metadata": {
        "id": "PXdtPdEWpUkZ"
      }
    },
    {
      "cell_type": "code",
      "source": [
        "var_ML = (1/n_points)*sum([(x-mu_ML)**2 for x in data])\n",
        "print(\"Maximum likelihood estimation of variance is \"+str(var_ML))\n",
        "print(\"True variance is \" + str(std**2))"
      ],
      "metadata": {
        "colab": {
          "base_uri": "https://localhost:8080/"
        },
        "id": "hU0FUEwhxQpH",
        "outputId": "31be2011-13cf-4c31-ca50-c7fad1053eaa"
      },
      "execution_count": null,
      "outputs": [
        {
          "output_type": "stream",
          "name": "stdout",
          "text": [
            "Maximum likelihood estimation of variance is 19.0986750789198\n",
            "True variance is 25\n"
          ]
        }
      ]
    },
    {
      "cell_type": "markdown",
      "source": [
        "Now we use MLE on some real world data ~"
      ],
      "metadata": {
        "id": "S1Yjc-5p2vgm"
      }
    },
    {
      "cell_type": "code",
      "source": [
        "df.head() #[12]"
      ],
      "metadata": {
        "colab": {
          "base_uri": "https://localhost:8080/",
          "height": 250
        },
        "id": "SF-1EWbB0QbF",
        "outputId": "a6749e43-7fa2-47d6-969e-fb1a159684f4"
      },
      "execution_count": null,
      "outputs": [
        {
          "output_type": "execute_result",
          "data": {
            "text/plain": [
              "   Avg. Area Income  Avg. Area House Age  Avg. Area Number of Rooms  \\\n",
              "0      79545.458574             5.682861                   7.009188   \n",
              "1      79248.642455             6.002900                   6.730821   \n",
              "2      61287.067179             5.865890                   8.512727   \n",
              "3      63345.240046             7.188236                   5.586729   \n",
              "4      59982.197226             5.040555                   7.839388   \n",
              "\n",
              "   Avg. Area Number of Bedrooms  Area Population         Price  \\\n",
              "0                          4.09     23086.800503  1.059034e+06   \n",
              "1                          3.09     40173.072174  1.505891e+06   \n",
              "2                          5.13     36882.159400  1.058988e+06   \n",
              "3                          3.26     34310.242831  1.260617e+06   \n",
              "4                          4.23     26354.109472  6.309435e+05   \n",
              "\n",
              "                                             Address  \n",
              "0  208 Michael Ferry Apt. 674\\nLaurabury, NE 3701...  \n",
              "1  188 Johnson Views Suite 079\\nLake Kathleen, CA...  \n",
              "2  9127 Elizabeth Stravenue\\nDanieltown, WI 06482...  \n",
              "3                          USS Barnett\\nFPO AP 44820  \n",
              "4                         USNS Raymond\\nFPO AE 09386  "
            ],
            "text/html": [
              "\n",
              "  <div id=\"df-95541387-277f-4a34-a37c-02fe2d2b8689\">\n",
              "    <div class=\"colab-df-container\">\n",
              "      <div>\n",
              "<style scoped>\n",
              "    .dataframe tbody tr th:only-of-type {\n",
              "        vertical-align: middle;\n",
              "    }\n",
              "\n",
              "    .dataframe tbody tr th {\n",
              "        vertical-align: top;\n",
              "    }\n",
              "\n",
              "    .dataframe thead th {\n",
              "        text-align: right;\n",
              "    }\n",
              "</style>\n",
              "<table border=\"1\" class=\"dataframe\">\n",
              "  <thead>\n",
              "    <tr style=\"text-align: right;\">\n",
              "      <th></th>\n",
              "      <th>Avg. Area Income</th>\n",
              "      <th>Avg. Area House Age</th>\n",
              "      <th>Avg. Area Number of Rooms</th>\n",
              "      <th>Avg. Area Number of Bedrooms</th>\n",
              "      <th>Area Population</th>\n",
              "      <th>Price</th>\n",
              "      <th>Address</th>\n",
              "    </tr>\n",
              "  </thead>\n",
              "  <tbody>\n",
              "    <tr>\n",
              "      <th>0</th>\n",
              "      <td>79545.458574</td>\n",
              "      <td>5.682861</td>\n",
              "      <td>7.009188</td>\n",
              "      <td>4.09</td>\n",
              "      <td>23086.800503</td>\n",
              "      <td>1.059034e+06</td>\n",
              "      <td>208 Michael Ferry Apt. 674\\nLaurabury, NE 3701...</td>\n",
              "    </tr>\n",
              "    <tr>\n",
              "      <th>1</th>\n",
              "      <td>79248.642455</td>\n",
              "      <td>6.002900</td>\n",
              "      <td>6.730821</td>\n",
              "      <td>3.09</td>\n",
              "      <td>40173.072174</td>\n",
              "      <td>1.505891e+06</td>\n",
              "      <td>188 Johnson Views Suite 079\\nLake Kathleen, CA...</td>\n",
              "    </tr>\n",
              "    <tr>\n",
              "      <th>2</th>\n",
              "      <td>61287.067179</td>\n",
              "      <td>5.865890</td>\n",
              "      <td>8.512727</td>\n",
              "      <td>5.13</td>\n",
              "      <td>36882.159400</td>\n",
              "      <td>1.058988e+06</td>\n",
              "      <td>9127 Elizabeth Stravenue\\nDanieltown, WI 06482...</td>\n",
              "    </tr>\n",
              "    <tr>\n",
              "      <th>3</th>\n",
              "      <td>63345.240046</td>\n",
              "      <td>7.188236</td>\n",
              "      <td>5.586729</td>\n",
              "      <td>3.26</td>\n",
              "      <td>34310.242831</td>\n",
              "      <td>1.260617e+06</td>\n",
              "      <td>USS Barnett\\nFPO AP 44820</td>\n",
              "    </tr>\n",
              "    <tr>\n",
              "      <th>4</th>\n",
              "      <td>59982.197226</td>\n",
              "      <td>5.040555</td>\n",
              "      <td>7.839388</td>\n",
              "      <td>4.23</td>\n",
              "      <td>26354.109472</td>\n",
              "      <td>6.309435e+05</td>\n",
              "      <td>USNS Raymond\\nFPO AE 09386</td>\n",
              "    </tr>\n",
              "  </tbody>\n",
              "</table>\n",
              "</div>\n",
              "      <button class=\"colab-df-convert\" onclick=\"convertToInteractive('df-95541387-277f-4a34-a37c-02fe2d2b8689')\"\n",
              "              title=\"Convert this dataframe to an interactive table.\"\n",
              "              style=\"display:none;\">\n",
              "        \n",
              "  <svg xmlns=\"http://www.w3.org/2000/svg\" height=\"24px\"viewBox=\"0 0 24 24\"\n",
              "       width=\"24px\">\n",
              "    <path d=\"M0 0h24v24H0V0z\" fill=\"none\"/>\n",
              "    <path d=\"M18.56 5.44l.94 2.06.94-2.06 2.06-.94-2.06-.94-.94-2.06-.94 2.06-2.06.94zm-11 1L8.5 8.5l.94-2.06 2.06-.94-2.06-.94L8.5 2.5l-.94 2.06-2.06.94zm10 10l.94 2.06.94-2.06 2.06-.94-2.06-.94-.94-2.06-.94 2.06-2.06.94z\"/><path d=\"M17.41 7.96l-1.37-1.37c-.4-.4-.92-.59-1.43-.59-.52 0-1.04.2-1.43.59L10.3 9.45l-7.72 7.72c-.78.78-.78 2.05 0 2.83L4 21.41c.39.39.9.59 1.41.59.51 0 1.02-.2 1.41-.59l7.78-7.78 2.81-2.81c.8-.78.8-2.07 0-2.86zM5.41 20L4 18.59l7.72-7.72 1.47 1.35L5.41 20z\"/>\n",
              "  </svg>\n",
              "      </button>\n",
              "      \n",
              "  <style>\n",
              "    .colab-df-container {\n",
              "      display:flex;\n",
              "      flex-wrap:wrap;\n",
              "      gap: 12px;\n",
              "    }\n",
              "\n",
              "    .colab-df-convert {\n",
              "      background-color: #E8F0FE;\n",
              "      border: none;\n",
              "      border-radius: 50%;\n",
              "      cursor: pointer;\n",
              "      display: none;\n",
              "      fill: #1967D2;\n",
              "      height: 32px;\n",
              "      padding: 0 0 0 0;\n",
              "      width: 32px;\n",
              "    }\n",
              "\n",
              "    .colab-df-convert:hover {\n",
              "      background-color: #E2EBFA;\n",
              "      box-shadow: 0px 1px 2px rgba(60, 64, 67, 0.3), 0px 1px 3px 1px rgba(60, 64, 67, 0.15);\n",
              "      fill: #174EA6;\n",
              "    }\n",
              "\n",
              "    [theme=dark] .colab-df-convert {\n",
              "      background-color: #3B4455;\n",
              "      fill: #D2E3FC;\n",
              "    }\n",
              "\n",
              "    [theme=dark] .colab-df-convert:hover {\n",
              "      background-color: #434B5C;\n",
              "      box-shadow: 0px 1px 3px 1px rgba(0, 0, 0, 0.15);\n",
              "      filter: drop-shadow(0px 1px 2px rgba(0, 0, 0, 0.3));\n",
              "      fill: #FFFFFF;\n",
              "    }\n",
              "  </style>\n",
              "\n",
              "      <script>\n",
              "        const buttonEl =\n",
              "          document.querySelector('#df-95541387-277f-4a34-a37c-02fe2d2b8689 button.colab-df-convert');\n",
              "        buttonEl.style.display =\n",
              "          google.colab.kernel.accessAllowed ? 'block' : 'none';\n",
              "\n",
              "        async function convertToInteractive(key) {\n",
              "          const element = document.querySelector('#df-95541387-277f-4a34-a37c-02fe2d2b8689');\n",
              "          const dataTable =\n",
              "            await google.colab.kernel.invokeFunction('convertToInteractive',\n",
              "                                                     [key], {});\n",
              "          if (!dataTable) return;\n",
              "\n",
              "          const docLinkHtml = 'Like what you see? Visit the ' +\n",
              "            '<a target=\"_blank\" href=https://colab.research.google.com/notebooks/data_table.ipynb>data table notebook</a>'\n",
              "            + ' to learn more about interactive tables.';\n",
              "          element.innerHTML = '';\n",
              "          dataTable['output_type'] = 'display_data';\n",
              "          await google.colab.output.renderOutput(dataTable, element);\n",
              "          const docLink = document.createElement('div');\n",
              "          docLink.innerHTML = docLinkHtml;\n",
              "          element.appendChild(docLink);\n",
              "        }\n",
              "      </script>\n",
              "    </div>\n",
              "  </div>\n",
              "  "
            ]
          },
          "metadata": {},
          "execution_count": 24
        }
      ]
    },
    {
      "cell_type": "markdown",
      "source": [
        "Running 5000 instances of the maxm likelihood function for both parameters ~"
      ],
      "metadata": {
        "id": "ioerlXDeYgFP"
      }
    },
    {
      "cell_type": "code",
      "source": [
        "#defining the maximum likelihood function for mean\n",
        "\n",
        "def mu_ML_real(randomSamp):#randomSamp are the no of samples we take in each instance\n",
        "  inst = 1/sample_size*sum(random_samples)\n",
        "  return inst"
      ],
      "metadata": {
        "id": "3RTtyeRLPpYn"
      },
      "execution_count": null,
      "outputs": []
    },
    {
      "cell_type": "code",
      "source": [
        "sample_size = 50#no of samples we'll be taking at a time\n",
        "mean_mle_results = []\n",
        "\n",
        "for i in range(5000):\n",
        "\n",
        "  random_samples = np.random.choice(X, sample_size)# random samples from X (size=sample size)\n",
        "\n",
        "  if mu_ML_real(random_samples) != None:\n",
        "    mean_mle_results.append(mu_ML_real(random_samples))\n",
        "  else:\n",
        "    None"
      ],
      "metadata": {
        "id": "-1RZh8zVS9dK"
      },
      "execution_count": null,
      "outputs": []
    },
    {
      "cell_type": "code",
      "source": [
        "len(mean_mle_results)#5000 instances of the maxm likelihood fn(mean) using 50 samples from the original data column"
      ],
      "metadata": {
        "id": "mUDTCxqISq4p",
        "colab": {
          "base_uri": "https://localhost:8080/"
        },
        "outputId": "6b41737b-4c16-42a8-af0d-c6a400051b24"
      },
      "execution_count": null,
      "outputs": [
        {
          "output_type": "execute_result",
          "data": {
            "text/plain": [
              "5000"
            ]
          },
          "metadata": {},
          "execution_count": 35
        }
      ]
    },
    {
      "cell_type": "code",
      "source": [
        "X.mean()"
      ],
      "metadata": {
        "colab": {
          "base_uri": "https://localhost:8080/"
        },
        "id": "LsTw4KwCsq9h",
        "outputId": "f1a71ae0-29fe-4c6c-e498-0e9b21fc2839"
      },
      "execution_count": null,
      "outputs": [
        {
          "output_type": "execute_result",
          "data": {
            "text/plain": [
              "5.977222035280273"
            ]
          },
          "metadata": {},
          "execution_count": 28
        }
      ]
    },
    {
      "cell_type": "markdown",
      "source": [
        "Variance ~"
      ],
      "metadata": {
        "id": "JFznsn_gZkiV"
      }
    },
    {
      "cell_type": "code",
      "source": [
        "#defining the maximum likelihood function for variance\n",
        "sample_size = 50\n",
        "\n",
        "def var_ML_real(randomSamp):\n",
        "  inst_var = (1/sample_size)*sum([(x-mu_ML_real(random_samples))**2 for x in random_samples])\n",
        "  return inst_var"
      ],
      "metadata": {
        "id": "C_1FCm-RS9ap"
      },
      "execution_count": null,
      "outputs": []
    },
    {
      "cell_type": "code",
      "source": [
        "sample_size = 50\n",
        "var_mle_results = []\n",
        "\n",
        "for i in range(5000):\n",
        "\n",
        "  random_samples = np.random.choice(X, sample_size)# random samples from X (size=sample_size)\n",
        "\n",
        "  if var_ML_real(random_samples) != None:\n",
        "    var_mle_results.append(var_ML_real(random_samples))\n",
        "  else:\n",
        "    None"
      ],
      "metadata": {
        "id": "4MicgCz3ayUT"
      },
      "execution_count": null,
      "outputs": []
    },
    {
      "cell_type": "code",
      "source": [
        "len(var_mle_results)#5000 instances of the maxm likelihood fn(var) using 50 samples from the original data column"
      ],
      "metadata": {
        "id": "SXNVT4hmpRAv",
        "colab": {
          "base_uri": "https://localhost:8080/"
        },
        "outputId": "5b52ca29-79e9-4707-ceb0-14a6d4c134cd"
      },
      "execution_count": null,
      "outputs": [
        {
          "output_type": "execute_result",
          "data": {
            "text/plain": [
              "5000"
            ]
          },
          "metadata": {},
          "execution_count": 36
        }
      ]
    },
    {
      "cell_type": "markdown",
      "source": [
        "Calculating Mean Squared Error ~"
      ],
      "metadata": {
        "id": "jqBQNiPb2UOf"
      }
    },
    {
      "cell_type": "code",
      "source": [
        "actual_mean = [X.mean()]*5000\n",
        "actual_var = [X.var()]*5000"
      ],
      "metadata": {
        "id": "lyQ-IIOvxAvI"
      },
      "execution_count": null,
      "outputs": []
    },
    {
      "cell_type": "code",
      "source": [
        "from sklearn.metrics import mean_squared_error\n",
        "mse_mean = mean_squared_error(actual_mean, mean_mle_results)\n",
        "mse_var = mean_squared_error(actual_var, var_mle_results)"
      ],
      "metadata": {
        "id": "L2ekgDijxLBU"
      },
      "execution_count": null,
      "outputs": []
    },
    {
      "cell_type": "code",
      "source": [
        "print(\"The mean squared error for maxm likelihood estimation of mean is \" + str(mse_mean))\n",
        "print(\"The mean squared error for maxm likelihood estimation of variance is \" + str(mse_var))"
      ],
      "metadata": {
        "colab": {
          "base_uri": "https://localhost:8080/"
        },
        "id": "aJYm06L9y0z6",
        "outputId": "df631d61-efd1-4afe-ce14-fb3e1f074bd3"
      },
      "execution_count": null,
      "outputs": [
        {
          "output_type": "stream",
          "name": "stdout",
          "text": [
            "The mean squared error for maxm likelihood estimation of mean is 0.019381137866621684\n",
            "The mean squared error for maxm likelihood estimation of variance is 0.03665966587030247\n"
          ]
        }
      ]
    }
  ]
}